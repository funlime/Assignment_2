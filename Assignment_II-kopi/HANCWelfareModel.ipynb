{
 "cells": [
  {
   "cell_type": "markdown",
   "metadata": {},
   "source": [
    "# HANC with a Welfare State"
   ]
  },
  {
   "attachments": {},
   "cell_type": "markdown",
   "metadata": {},
   "source": [
    "In Part 1 the model is tested and solved. In part 2 the questions a-e are answered \n",
    "\n",
    "\n",
    "**Table of contents**<a id='toc0_'></a>    \n",
    "- 1. [Setup](#toc1_)    \n",
    "- 2. [Test 1: Solving and simulating the household problem](#toc2_)    \n",
    "- 3. [Test 2: Evaluating the objective for finding the steady state](#toc3_)    \n",
    "- 4. [Find stationary equilibrium](#toc4_)    \n",
    "- 5. [Grid search](#toc5_)    \n",
    "- 6. [Policy functions](#toc6_)    \n",
    "- 7. [Simulation](#toc7_)    \n",
    "- 8. [Test transition path](#toc8_)    \n",
    "- 9. [Find transition path](#toc9_)    \n",
    "\n",
    "<!-- vscode-jupyter-toc-config\n",
    "\tnumbering=true\n",
    "\tanchor=true\n",
    "\tflat=false\n",
    "\tminLevel=2\n",
    "\tmaxLevel=6\n",
    "\t/vscode-jupyter-toc-config -->\n",
    "<!-- THIS CELL WILL BE REPLACED ON TOC UPDATE. DO NOT WRITE YOUR TEXT IN THIS CELL -->"
   ]
  },
  {
   "cell_type": "code",
   "execution_count": null,
   "metadata": {},
   "outputs": [],
   "source": [
    "%load_ext autoreload\n",
    "%autoreload 2\n",
    "\n",
    "import time\n",
    "import pickle\n",
    "import numpy as np\n",
    "from scipy import optimize\n",
    "\n",
    "import matplotlib.pyplot as plt   \n",
    "colors = plt.rcParams['axes.prop_cycle'].by_key()['color']\n",
    "plt.rcParams.update({\"axes.grid\" : True, \"grid.color\": \"black\", \"grid.alpha\":\"0.25\", \"grid.linestyle\": \"--\"})\n",
    "plt.rcParams.update({'font.size': 14})\n",
    "\n",
    "from HANCWelfareModel import HANCWelfareModelClass\n",
    "from steady_state import obj_ss"
   ]
  },
  {
   "cell_type": "markdown",
   "metadata": {},
   "source": [
    "## 1. <a id='toc1_'></a>[Setup](#toc0_)"
   ]
  },
  {
   "cell_type": "code",
   "execution_count": null,
   "metadata": {},
   "outputs": [],
   "source": [
    "model = HANCWelfareModelClass(name='baseline')\n",
    "\n",
    "par = model.par\n",
    "ss = model.ss\n",
    "sol = model.sol\n",
    "path = model.path"
   ]
  },
  {
   "cell_type": "markdown",
   "metadata": {},
   "source": [
    "## 2. <a id='toc2_'></a>[Test 1: Solving and simulating the household problem](#toc0_)"
   ]
  },
  {
   "cell_type": "markdown",
   "metadata": {},
   "source": [
    "We set all the steady values for the household problem manually at ad hoc values:"
   ]
  },
  {
   "cell_type": "code",
   "execution_count": null,
   "metadata": {},
   "outputs": [],
   "source": [
    "ss.r = 0.02*(1-0.1)\n",
    "ss.wt = 1.00*(1-0.3)\n",
    "ss.S = 0.0\n",
    "ss.Chi = 0.0\n",
    "model.solve_hh_ss(do_print=True)\n"
   ]
  },
  {
   "cell_type": "markdown",
   "metadata": {},
   "source": [
    "We can now solve and simulate:"
   ]
  },
  {
   "cell_type": "code",
   "execution_count": null,
   "metadata": {},
   "outputs": [],
   "source": [
    "model.solve_hh_ss(do_print=True)"
   ]
  },
  {
   "cell_type": "code",
   "execution_count": null,
   "metadata": {},
   "outputs": [],
   "source": [
    "model.simulate_hh_ss(do_print=True)\n",
    "print(ss.U_hh)"
   ]
  },
  {
   "cell_type": "code",
   "execution_count": null,
   "metadata": {},
   "outputs": [],
   "source": [
    "#Testting obj function \n",
    "# guessing on tau and K/L_y\n",
    "x = [1.0, 0.0]\n",
    "\n",
    "obj_ss(x, model)"
   ]
  },
  {
   "cell_type": "code",
   "execution_count": null,
   "metadata": {},
   "outputs": [],
   "source": [
    "model.find_ss(do_print=True)"
   ]
  },
  {
   "cell_type": "code",
   "execution_count": null,
   "metadata": {},
   "outputs": [],
   "source": [
    "for varname in model.varlist:\n",
    "    print(f'{varname:15s}: {ss.__dict__[varname]:.4f}')"
   ]
  },
  {
   "cell_type": "code",
   "execution_count": null,
   "metadata": {},
   "outputs": [],
   "source": [
    "model.test_path()"
   ]
  },
  {
   "cell_type": "code",
   "execution_count": null,
   "metadata": {},
   "outputs": [],
   "source": [
    "#model.compute_jacs(do_print=True)\n",
    "model.find_transition_path(shocks=[],do_print=True)"
   ]
  },
  {
   "cell_type": "code",
   "execution_count": null,
   "metadata": {},
   "outputs": [],
   "source": [
    "#Ploting the accumulation discounted utility\n",
    "#par.T = 500\n",
    "time_ = [1, 10, 20, 30, 40, 50,  100, 150, 200, 250, 300, 350, 400, 450, 500]\n",
    "\n",
    "time_past = []\n",
    "disc_utility = []\n",
    "for i in time_:\n",
    "    par.T = i \n",
    "    time_past.append(i)\n",
    "    U =np.sum([par.beta**t * np.sum(path.u[t]*path.D[t]/np.sum(path.D[t])) for t in range(par.T)])\n",
    "    disc_utility.append(U)\n",
    "\n",
    "#figure \n",
    "fig = plt.figure(figsize=(12,6))\n",
    "ax = fig.add_subplot(1,1,1)\n",
    "ax.plot(time_past, disc_utility, label='Discounted Utility')\n",
    "ax.set_xlabel('Time')\n",
    "ax.set_ylabel('Utility')\n",
    "ax.legend()\n",
    "\n",
    "# save figure\n",
    "#fig.savefig('figs/fig_disc_utility.png', bbox_inches='tight')\n",
    "#print(disc_utility)\n",
    "plt.show()\n"
   ]
  },
  {
   "cell_type": "code",
   "execution_count": null,
   "metadata": {},
   "outputs": [],
   "source": [
    "i_fix = 0\n",
    "\n",
    "fig = plt.figure(figsize=(18,4),dpi=100)\n",
    "a_max = 50\n",
    "\n",
    "# a. consumption\n",
    "I = par.a_grid < a_max\n",
    "\n",
    "ax = fig.add_subplot(1,3,1)\n",
    "ax.set_title(f'consumption')\n",
    "\n",
    "for i_z in [0,par.Nz//2,par.Nz-1]:\n",
    "    ax.plot(par.a_grid[I],ss.c[i_fix,i_z,I],label=f'i_z = {i_z}')\n",
    "\n",
    "ax.legend(frameon=True)\n",
    "ax.set_xlabel('savings, $a_{t-1}$')\n",
    "ax.set_ylabel('consumption, $c_t$')\n",
    "\n",
    "# b. saving\n",
    "I = par.a_grid < a_max\n",
    "\n",
    "ax = fig.add_subplot(1,3,2)\n",
    "ax.set_title(f'saving')\n",
    "\n",
    "for i_z in [0,par.Nz//2,par.Nz-1]:\n",
    "    ax.plot(par.a_grid[I],ss.a[i_fix,i_z,I],label=f'i_z = {i_z}')\n",
    "\n",
    "ax.set_xlabel('savings, $a_{t-1}$')\n",
    "ax.set_ylabel('savings, $a_{t}$')\n",
    "\n",
    "# c. labor supply\n",
    "I = par.a_grid < a_max\n",
    "\n",
    "ax = fig.add_subplot(1,3,3)\n",
    "ax.set_title(f'labor_supply')\n",
    "\n",
    "for i_z in [0,par.Nz//2,par.Nz-1]:\n",
    "    ax.plot(par.a_grid[I],ss.ell[i_fix,i_z,I],label=f'i_z = {i_z}')\n",
    "\n",
    "ax.set_xlabel('savings, $a_{t-1}$')\n",
    "ax.set_ylabel('labor supply, $n_{t}$')\n",
    "\n",
    "\n",
    "fig.tight_layout()\n",
    "#save figure\n",
    "#fig.savefig('figs/fig_policy.png', bbox_inches='tight')\n",
    "\n",
    "plt.show()"
   ]
  },
  {
   "cell_type": "code",
   "execution_count": null,
   "metadata": {},
   "outputs": [],
   "source": [
    "fig = plt.figure(figsize=(12,4),dpi=100)\n",
    "\n",
    "# a. income\n",
    "ax = fig.add_subplot(1,2,1)\n",
    "ax.set_title('productivity')\n",
    "\n",
    "y = np.cumsum(np.sum(ss.D,axis=(0,2)))\n",
    "ax.plot(par.z_grid,y/y[-1])\n",
    "\n",
    "ax.set_xlabel('productivity, $z_{t}$')\n",
    "ax.set_ylabel('CDF')\n",
    "\n",
    "# b. assets\n",
    "ax = fig.add_subplot(1,2,2)\n",
    "ax.set_title('savings')\n",
    "y = np.insert(np.cumsum(np.sum(ss.D,axis=(0,1))),0,0.0)\n",
    "ax.plot(np.insert(par.a_grid,0,par.a_grid[0]),y/y[-1])\n",
    "        \n",
    "ax.set_xlabel('assets, $a_{t}$')\n",
    "ax.set_ylabel('CDF')\n",
    "ax.set_xscale('symlog')\n",
    "\n",
    "#save figure\n",
    "#fig.savefig('figs/fig_distribution.png', bbox_inches='tight')\n",
    "plt.show()"
   ]
  },
  {
   "cell_type": "markdown",
   "metadata": {},
   "source": [
    "## 2. <a id='toc2_'></a>[Test 1: Solving and simulating the household problem](#toc0_)"
   ]
  },
  {
   "cell_type": "code",
   "execution_count": null,
   "metadata": {},
   "outputs": [],
   "source": []
  },
  {
   "cell_type": "code",
   "execution_count": null,
   "metadata": {},
   "outputs": [],
   "source": [
    "model.compute_jacs(do_print=True)\n",
    "model.test_jacs()"
   ]
  },
  {
   "cell_type": "code",
   "execution_count": null,
   "metadata": {},
   "outputs": [],
   "source": [
    "model.test_path()"
   ]
  },
  {
   "cell_type": "code",
   "execution_count": null,
   "metadata": {},
   "outputs": [],
   "source": [
    "model.find_transition_path(shocks=[],do_print=True)"
   ]
  },
  {
   "attachments": {},
   "cell_type": "markdown",
   "metadata": {},
   "source": [
    "## Question 2"
   ]
  },
  {
   "cell_type": "code",
   "execution_count": null,
   "metadata": {},
   "outputs": [],
   "source": [
    "ss.U_hh"
   ]
  },
  {
   "cell_type": "code",
   "execution_count": null,
   "metadata": {},
   "outputs": [],
   "source": [
    "#Works \n",
    "par.G_ss = 0.2\n",
    "model.find_ss(do_print=False)\n",
    "print(f'{ss.U_hh = :.2f}')\n",
    "values = (0.0, 0.1, 0.15, 0.2, 0.25, 0.3)\n",
    "\n",
    "#dosent work (says float cant be interpreted as an integer)\n",
    "for i in values:\n",
    "    print(type(i))\n",
    "    par.G_ss = i\n",
    "    model.find_ss(do_print=True)\n",
    "    print(f'{ss.U_hh = :.2f}')\n",
    "    print(f'{par.G_ss = :.2f}')\n",
    "    print(f'{ss.L_G = :.2f}')"
   ]
  },
  {
   "cell_type": "code",
   "execution_count": null,
   "metadata": {},
   "outputs": [],
   "source": [
    "values = (0.1, 0.15, 0.2, 0.25, 0.3)\n",
    "\n",
    "for i in values:\n",
    "    print(f'G = {i}')\n",
    "    par.G_ss = i\n",
    "    model.find_ss(do_print=False)\n",
    "    print(f'Utility = {ss.U_hh:.2f}')"
   ]
  },
  {
   "cell_type": "code",
   "execution_count": null,
   "metadata": {},
   "outputs": [],
   "source": [
    "# List of values\n",
    "values = [0.001, 0.005, 0.05, 0.1, 0.15, 0.2, 0.25, 0.3, 0.4, 0.5]\n",
    "\n",
    "# Initialize empty lists to store inputs and utilities\n",
    "inputs = []\n",
    "utilities = []\n",
    "\n",
    "# Iterate through the values\n",
    "for i in values:\n",
    "    print(f'G = {i}')\n",
    "    par.G_ss = i\n",
    "    model.find_ss(do_print=False)\n",
    "    utility = ss.U_hh\n",
    "    print(f'Utility = {utility:.2f}')\n",
    "    print(f'{ss.L_G = :.2f}')\n",
    "    print(f'{ss.L_Y = :.2f}')\n",
    "    \n",
    "    # Append the input value and utility to the respective lists\n",
    "    inputs.append(i)\n",
    "    utilities.append(utility)\n",
    "\n",
    "# Plot the inputs and utilities\n",
    "plt.figure(figsize=(8, 4))\n",
    "plt.plot(inputs, utilities, marker='o', linestyle='-')\n",
    "plt.xlabel('G')\n",
    "plt.ylabel('Utility')\n",
    "plt.title('Utility vs. G')\n",
    "plt.grid(True)\n",
    "plt.show()"
   ]
  },
  {
   "cell_type": "markdown",
   "metadata": {},
   "source": [
    "And we can check whether the results make sort of sense:"
   ]
  },
  {
   "cell_type": "code",
   "execution_count": null,
   "metadata": {},
   "outputs": [],
   "source": [
    "print(f'{model.ss.A_hh = :.2f}')\n",
    "print(f'{model.ss.L_hh = :.2f}')\n",
    "print(f'{model.ss.C_hh = :.2f}')"
   ]
  },
  {
   "cell_type": "code",
   "execution_count": null,
   "metadata": {},
   "outputs": [],
   "source": [
    "model.test_hh_path()"
   ]
  },
  {
   "cell_type": "markdown",
   "metadata": {},
   "source": [
    "## 3. <a id='toc3_'></a>[Test 2: Evaluating the objective for finding the steady state](#toc0_)"
   ]
  },
  {
   "cell_type": "markdown",
   "metadata": {},
   "source": [
    "We can try out various inputs and look at the outputs:"
   ]
  },
  {
   "cell_type": "code",
   "execution_count": null,
   "metadata": {},
   "outputs": [],
   "source": [
    "#Testting obj function \n",
    "# guessing on tau and K/L_y\n",
    "x = [1.0, 0.0]\n",
    "\n",
    "obj_ss(x, model)"
   ]
  },
  {
   "cell_type": "markdown",
   "metadata": {},
   "source": [
    "## 4. <a id='toc4_'></a>[Find stationary equilibrium](#toc0_)"
   ]
  },
  {
   "cell_type": "code",
   "execution_count": null,
   "metadata": {},
   "outputs": [],
   "source": [
    "model.find_ss(do_print=True)"
   ]
  },
  {
   "cell_type": "markdown",
   "metadata": {},
   "source": [
    "## 5. <a id='toc5_'></a>[Grid search](#toc0_)"
   ]
  },
  {
   "cell_type": "code",
   "execution_count": null,
   "metadata": {},
   "outputs": [],
   "source": [
    "par.tau_ss = 0.0\n",
    "KL_min = ((1/par.beta+par.delta-1)/(par.alpha*par.Gamma_Y))**(1/(par.alpha-1))\n",
    "KL_max = (par.delta/(par.alpha*par.Gamma_Y))**(1/(par.alpha-1))"
   ]
  },
  {
   "cell_type": "code",
   "execution_count": null,
   "metadata": {},
   "outputs": [],
   "source": [
    "NKL = 10\n",
    "KL_vec = np.hstack((np.linspace(KL_min+1e-2,KL_max-1e-2,NKL),np.linspace(KL_max+1e-2,10.0,NKL)))\n",
    "clearing_A_vec = np.nan*np.ones(KL_vec.size)\n",
    "r_vec = np.nan*np.ones(KL_vec.size)\n",
    "\n",
    "model_ = model.copy()\n",
    "for i,KL in enumerate(KL_vec):\n",
    "    print(f'{KL = :6.2f}: ',end='')\n",
    "    try:\n",
    "        clearing_A_vec[i] = obj_ss(np.array([KL]),model_,do_print=False)\n",
    "        r_vec[i] = model_.ss.r\n",
    "        print(f'clearing_A = {clearing_A_vec[i]:16.8f}')\n",
    "    except Exception as e:\n",
    "        print(e)"
   ]
  },
  {
   "cell_type": "code",
   "execution_count": null,
   "metadata": {},
   "outputs": [],
   "source": [
    "fig = plt.figure(figsize=(12,4),dpi=100)\n",
    "\n",
    "# a. income\n",
    "ax = fig.add_subplot(1,2,1)\n",
    "ax.set_title('$B+K-A^{hh}$')\n",
    "ax.plot(KL_vec[:NKL],clearing_A_vec[:NKL],'-o')\n",
    "ax.plot(KL_vec[NKL:],clearing_A_vec[NKL:],'-o')\n",
    "ax.axvline(ss.K/ss.L,color='black')\n",
    "ax.set_yscale('symlog')\n",
    "\n",
    "ax = fig.add_subplot(1,2,2)\n",
    "ax.set_title('$r$')\n",
    "ax.plot(KL_vec[:NKL],r_vec[:NKL],'-o')\n",
    "ax.plot(KL_vec[NKL:],r_vec[NKL:],'-o')\n",
    "ax.axvline(ss.K/ss.L,color='black');\n",
    "ax.axhline(ss.r,color='black');"
   ]
  },
  {
   "cell_type": "markdown",
   "metadata": {},
   "source": [
    "## 6. <a id='toc6_'></a>[Policy functions](#toc0_)"
   ]
  },
  {
   "cell_type": "code",
   "execution_count": null,
   "metadata": {},
   "outputs": [],
   "source": [
    "i_fix = 0\n",
    "\n",
    "fig = plt.figure(figsize=(18,4),dpi=100)\n",
    "a_max = 50\n",
    "\n",
    "# a. consumption\n",
    "I = par.a_grid < a_max\n",
    "\n",
    "ax = fig.add_subplot(1,3,1)\n",
    "ax.set_title(f'consumption')\n",
    "\n",
    "for i_z in [0,par.Nz//2,par.Nz-1]:\n",
    "    ax.plot(par.a_grid[I],ss.c[i_fix,i_z,I],label=f'i_z = {i_z}')\n",
    "\n",
    "ax.legend(frameon=True)\n",
    "ax.set_xlabel('savings, $a_{t-1}$')\n",
    "ax.set_ylabel('consumption, $c_t$')\n",
    "\n",
    "# b. saving\n",
    "I = par.a_grid < a_max\n",
    "\n",
    "ax = fig.add_subplot(1,3,2)\n",
    "ax.set_title(f'saving')\n",
    "\n",
    "for i_z in [0,par.Nz//2,par.Nz-1]:\n",
    "    ax.plot(par.a_grid[I],ss.a[i_fix,i_z,I],label=f'i_z = {i_z}')\n",
    "\n",
    "ax.set_xlabel('savings, $a_{t-1}$')\n",
    "ax.set_ylabel('savings, $a_{t}$')\n",
    "\n",
    "# c. labor supply\n",
    "I = par.a_grid < a_max\n",
    "\n",
    "ax = fig.add_subplot(1,3,3)\n",
    "ax.set_title(f'labor_supply')\n",
    "\n",
    "for i_z in [0,par.Nz//2,par.Nz-1]:\n",
    "    ax.plot(par.a_grid[I],ss.ell[i_fix,i_z,I],label=f'i_z = {i_z}')\n",
    "\n",
    "ax.set_xlabel('savings, $a_{t-1}$')\n",
    "ax.set_ylabel('labor supply, $n_{t}$')\n",
    "\n",
    "fig.tight_layout()\n",
    "plt.show()"
   ]
  },
  {
   "cell_type": "markdown",
   "metadata": {},
   "source": [
    "## 7. <a id='toc7_'></a>[Simulation](#toc0_)"
   ]
  },
  {
   "cell_type": "code",
   "execution_count": null,
   "metadata": {},
   "outputs": [],
   "source": [
    "fig = plt.figure(figsize=(12,4),dpi=100)\n",
    "\n",
    "# a. income\n",
    "ax = fig.add_subplot(1,2,1)\n",
    "ax.set_title('productivity')\n",
    "\n",
    "y = np.cumsum(np.sum(ss.D,axis=(0,2)))\n",
    "ax.plot(par.z_grid,y/y[-1])\n",
    "\n",
    "ax.set_xlabel('productivity, $z_{t}$')\n",
    "ax.set_ylabel('CDF')\n",
    "\n",
    "# b. assets\n",
    "ax = fig.add_subplot(1,2,2)\n",
    "ax.set_title('savings')\n",
    "y = np.insert(np.cumsum(np.sum(ss.D,axis=(0,1))),0,0.0)\n",
    "ax.plot(np.insert(par.a_grid,0,par.a_grid[0]),y/y[-1])\n",
    "        \n",
    "ax.set_xlabel('assets, $a_{t}$')\n",
    "ax.set_ylabel('CDF')\n",
    "ax.set_xscale('symlog')"
   ]
  },
  {
   "cell_type": "markdown",
   "metadata": {},
   "source": [
    "## 8. <a id='toc8_'></a>[Test transition path](#toc0_)"
   ]
  },
  {
   "cell_type": "code",
   "execution_count": null,
   "metadata": {},
   "outputs": [],
   "source": [
    "try:\n",
    "    model.test_ss()\n",
    "except Exception as e:\n",
    "    print('you need to update GEModelTools to call this function (optional)')"
   ]
  },
  {
   "cell_type": "code",
   "execution_count": null,
   "metadata": {},
   "outputs": [],
   "source": [
    "model.test_hh_path()"
   ]
  },
  {
   "cell_type": "code",
   "execution_count": null,
   "metadata": {},
   "outputs": [],
   "source": [
    "model.draw_DAG()"
   ]
  },
  {
   "cell_type": "code",
   "execution_count": null,
   "metadata": {},
   "outputs": [],
   "source": [
    "model.ss.tau"
   ]
  },
  {
   "cell_type": "code",
   "execution_count": null,
   "metadata": {},
   "outputs": [],
   "source": [
    "model.test_path(in_place=True)"
   ]
  },
  {
   "cell_type": "code",
   "execution_count": null,
   "metadata": {},
   "outputs": [],
   "source": [
    "model.path.A_hh"
   ]
  },
  {
   "cell_type": "markdown",
   "metadata": {},
   "source": [
    "## 9. <a id='toc9_'></a>[Find transition path](#toc0_)"
   ]
  },
  {
   "cell_type": "code",
   "execution_count": null,
   "metadata": {},
   "outputs": [],
   "source": [
    "model.compute_jacs(do_print=True)"
   ]
  },
  {
   "cell_type": "code",
   "execution_count": null,
   "metadata": {},
   "outputs": [],
   "source": [
    "model.test_jacs()"
   ]
  },
  {
   "cell_type": "code",
   "execution_count": null,
   "metadata": {},
   "outputs": [],
   "source": [
    "model.find_transition_path(shocks=[],do_print=True)"
   ]
  },
  {
   "attachments": {},
   "cell_type": "markdown",
   "metadata": {},
   "source": [
    "## 9. <a id='toc9_'></a>[Question a](#toc0_)"
   ]
  },
  {
   "attachments": {},
   "cell_type": "markdown",
   "metadata": {},
   "source": [
    "Calculating utility"
   ]
  },
  {
   "cell_type": "code",
   "execution_count": null,
   "metadata": {},
   "outputs": [],
   "source": [
    "par.T = 500\n",
    "v = np.sum([par.beta**t* np.sum(path.u[t,i_fix]*path.D[t,i_fix]/np.sum(path.D[t,i_fix]))\n",
    "for t in range(par.T)])\n",
    "\n",
    "print(f'{v = :.2f}')"
   ]
  }
 ],
 "metadata": {
  "kernelspec": {
   "display_name": "base",
   "language": "python",
   "name": "python3"
  },
  "language_info": {
   "codemirror_mode": {
    "name": "ipython",
    "version": 3
   },
   "file_extension": ".py",
   "mimetype": "text/x-python",
   "name": "python",
   "nbconvert_exporter": "python",
   "pygments_lexer": "ipython3",
   "version": "3.9.13"
  },
  "toc-autonumbering": true,
  "vscode": {
   "interpreter": {
    "hash": "47ef90cdf3004d3f859f1fb202523c65c07ba7c22eefd261b181f4744e2d0403"
   }
  }
 },
 "nbformat": 4,
 "nbformat_minor": 4
}
