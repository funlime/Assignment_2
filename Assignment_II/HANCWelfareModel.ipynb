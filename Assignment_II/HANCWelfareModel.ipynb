{
 "cells": [
  {
   "cell_type": "markdown",
   "metadata": {},
   "source": [
    "# HANC with a Welfare State"
   ]
  },
  {
   "cell_type": "markdown",
   "metadata": {},
   "source": [
    "**Table of contents**<a id='toc0_'></a>    \n",
    "- 1. [Setup](#toc1_)    \n",
    "- 2. [Test 1: Solving and simulating the household problem](#toc2_)    \n",
    "- 3. [Test 2: Evaluating the objective for finding the steady state](#toc3_)    \n",
    "- 4. [Find stationary equilibrium](#toc4_)    \n",
    "- 5. [Grid search](#toc5_)    \n",
    "- 6. [Policy functions](#toc6_)    \n",
    "- 7. [Simulation](#toc7_)    \n",
    "- 8. [Test transition path](#toc8_)    \n",
    "- 9. [Find transition path](#toc9_)    \n",
    "\n",
    "<!-- vscode-jupyter-toc-config\n",
    "\tnumbering=true\n",
    "\tanchor=true\n",
    "\tflat=false\n",
    "\tminLevel=2\n",
    "\tmaxLevel=6\n",
    "\t/vscode-jupyter-toc-config -->\n",
    "<!-- THIS CELL WILL BE REPLACED ON TOC UPDATE. DO NOT WRITE YOUR TEXT IN THIS CELL -->"
   ]
  },
  {
   "cell_type": "code",
   "execution_count": 2,
   "metadata": {},
   "outputs": [],
   "source": [
    "%load_ext autoreload\n",
    "%autoreload 2\n",
    "\n",
    "import time\n",
    "import pickle\n",
    "import numpy as np\n",
    "from scipy import optimize\n",
    "from scipy.optimize import minimize_scalar\n",
    "\n",
    "import matplotlib.pyplot as plt   \n",
    "colors = plt.rcParams['axes.prop_cycle'].by_key()['color']\n",
    "plt.rcParams.update({\"axes.grid\" : True, \"grid.color\": \"black\", \"grid.alpha\":\"0.25\", \"grid.linestyle\": \"--\"})\n",
    "plt.rcParams.update({'font.size': 14})\n",
    "\n",
    "from HANCWelfareModel import HANCWelfareModelClass\n",
    "from steady_state import obj_ss\n",
    "\n",
    "from mpl_toolkits.mplot3d import Axes3D\n"
   ]
  },
  {
   "cell_type": "markdown",
   "metadata": {},
   "source": [
    "## 1. <a id='toc1_'></a>[Setup](#toc0_)"
   ]
  },
  {
   "cell_type": "code",
   "execution_count": 3,
   "metadata": {},
   "outputs": [],
   "source": [
    "model = HANCWelfareModelClass(name='baseline')\n",
    "\n",
    "par = model.par\n",
    "ss = model.ss\n",
    "sol = model.sol\n",
    "path = model.path"
   ]
  },
  {
   "cell_type": "markdown",
   "metadata": {},
   "source": [
    "## 2. <a id='toc2_'></a>[Test 1: Solving and simulating the household problem](#toc0_)"
   ]
  },
  {
   "cell_type": "markdown",
   "metadata": {},
   "source": [
    "We set all the steady values for the household problem manually at ad hoc values:"
   ]
  },
  {
   "cell_type": "code",
   "execution_count": 4,
   "metadata": {},
   "outputs": [
    {
     "name": "stdout",
     "output_type": "stream",
     "text": [
      "household problem in ss solved in 0.1 secs [334 iterations]\n",
      "household problem in ss simulated in 1.5 secs [403 iterations]\n"
     ]
    }
   ],
   "source": [
    "ss.r = 0.02*(1-0.1)\n",
    "ss.wt = 1.00*(1-0.3)\n",
    "ss.S = 0.0\n",
    "ss.Chi = 0.1\n",
    "ss.G = 0.4\n",
    "\n",
    "model.solve_hh_ss(do_print=True)\n",
    "model.simulate_hh_ss(do_print=True)\n"
   ]
  },
  {
   "cell_type": "code",
   "execution_count": 5,
   "metadata": {},
   "outputs": [
    {
     "name": "stdout",
     "output_type": "stream",
     "text": [
      "starting at [3.8624]\n",
      "\n",
      " message: The solution converged.\n",
      " success: True\n",
      "  status: 1\n",
      "     fun: [ 1.262e-12 -1.186e-13]\n",
      "       x: [ 3.257e+00  7.770e-01]\n",
      "    nfev: 33\n",
      "    fjac: [[-9.988e-01  4.817e-02]\n",
      "           [-4.817e-02 -9.988e-01]]\n",
      "       r: [-1.139e+01 -1.430e+01  1.405e+00]\n",
      "     qtf: [-2.838e-09  1.244e-10]\n",
      "\n",
      "steady state found in 5.2 secs\n",
      "ss.K =  2.475\n",
      "ss.A_hh =  2.475\n",
      "ss.L =  1.160\n",
      "ss.Y =  1.083\n",
      "ss.r =  0.031\n",
      "ss.w =  0.998\n",
      "ss.clearing_A = 1.26e-12\n",
      "ss.clearing_L = 0.00e+00\n",
      "ss.clearing_Y = 2.65e-11\n"
     ]
    }
   ],
   "source": [
    "par.Chi_ = 0.1\n",
    "par.G_ = 0.4\n",
    "model.find_ss(do_print=True)\n"
   ]
  },
  {
   "cell_type": "code",
   "execution_count": 6,
   "metadata": {},
   "outputs": [
    {
     "name": "stdout",
     "output_type": "stream",
     "text": [
      "Steady state values:\n",
      "K              : 2.4754\n",
      "L_Y            : 0.7599\n",
      "rK             : 0.1313\n",
      "w              : 0.9976\n",
      "Y              : 1.0830\n",
      "A              : 2.4754\n",
      "r              : 0.0313\n",
      "tau            : 0.7770\n",
      "wt             : 0.2225\n",
      "L_G            : 0.4000\n",
      "G              : 0.4000\n",
      "Chi            : 0.1000\n",
      "S              : 0.4000\n",
      "Gamma_G        : 1.0000\n",
      "A_hh           : 2.4754\n",
      "C_hh           : 0.4355\n",
      "ELL_hh         : 1.1758\n",
      "L_hh           : 1.1599\n",
      "INC_hh         : 0.4355\n",
      "U_hh           : -5.7807\n",
      "L              : 1.1599\n",
      "I              : 0.2475\n",
      "clearing_A     : 0.0000\n",
      "clearing_L     : 0.0000\n",
      "clearing_Y     : 0.0000\n",
      "clearing_G     : -0.0000\n"
     ]
    }
   ],
   "source": [
    "def print_ss():\n",
    "    print(f'Steady state values:')\n",
    "    for varname in model.varlist:\n",
    "        print(f'{varname:15s}: {ss.__dict__[varname]:.4f}')\n",
    "print_ss()"
   ]
  },
  {
   "cell_type": "code",
   "execution_count": 7,
   "metadata": {},
   "outputs": [
    {
     "name": "stdout",
     "output_type": "stream",
     "text": [
      "shocks: G L_G Gamma_G \n",
      "unknowns: K L_Y \n",
      "\n",
      "blocks.production_firm\n",
      " rK               0.0e+00\n",
      " w                0.0e+00\n",
      " Y                0.0e+00\n",
      "blocks.mutual_fund\n",
      " A                0.0e+00\n",
      " r                0.0e+00\n",
      "blocks.government\n",
      " tau              0.0e+00\n",
      " wt               0.0e+00\n",
      " Chi              0.0e+00\n",
      " S                0.0e+00\n",
      "hh\n",
      " A_hh             1.2e-09\n",
      " C_hh             3.4e-11\n",
      " ELL_hh           1.5e-10\n",
      " L_hh             1.3e-10\n",
      " INC_hh           8.6e-12\n",
      " U_hh             3.5e-10\n",
      "blocks.market_clearing\n",
      " L                1.3e-10\n",
      " I                2.2e-16\n",
      " clearing_A       1.1e-09 [target]\n",
      " clearing_L       1.3e-10\n",
      " clearing_Y       3.4e-11\n",
      " clearing_G       9.8e-11 [target]\n"
     ]
    }
   ],
   "source": [
    "model.test_path(in_place=True) "
   ]
  },
  {
   "cell_type": "code",
   "execution_count": 8,
   "metadata": {},
   "outputs": [
    {
     "name": "stdout",
     "output_type": "stream",
     "text": [
      "[[2.64973599e-11]\n",
      " [2.57557309e-11]\n",
      " [2.50302001e-11]\n",
      " [2.43204346e-11]\n",
      " [2.36259901e-11]\n",
      " [2.29466446e-11]\n",
      " [2.22820651e-11]\n",
      " [2.16319185e-11]\n",
      " [2.09957607e-11]\n",
      " [2.03735917e-11]]\n"
     ]
    }
   ],
   "source": [
    "print(path.__dict__['clearing_Y'][:10])"
   ]
  },
  {
   "cell_type": "code",
   "execution_count": 9,
   "metadata": {},
   "outputs": [
    {
     "name": "stdout",
     "output_type": "stream",
     "text": [
      "household Jacobians:\n",
      "one step deviation from steady state calculated in 0.0 secs\n",
      "curly_Y and curly_D calculated for Chi             in 0.2 secs\n",
      "curly_Y and curly_D calculated for S               in 0.2 secs\n",
      "curly_Y and curly_D calculated for r               in 0.2 secs\n",
      "curly_Y and curly_D calculated for wt              in 0.2 secs\n",
      "curly_E calculated in 0.8 secs\n",
      "builiding blocks combined in 0.2 secs\n",
      "household Jacobian computed in 1.8 secs\n",
      "\n",
      "full Jacobians:\n",
      "full Jacobian to unknowns computed in 0.6 secs [in evaluate_blocks(): 0.3 secs]\n",
      "full Jacobian to shocks computed in 0.7 secs [in evaluate_blocks(): 0.4 secs]\n"
     ]
    }
   ],
   "source": [
    "model.compute_jacs(do_print=True)"
   ]
  },
  {
   "cell_type": "code",
   "execution_count": 10,
   "metadata": {},
   "outputs": [
    {
     "name": "stdout",
     "output_type": "stream",
     "text": [
      "finding the transition path:\n",
      " it =   0 -> max. abs. error = 1.15e-09\n",
      "   1.15e-09 in clearing_A\n",
      "   9.79e-11 in clearing_G\n",
      " it =   1 -> max. abs. error = 3.02e-14\n",
      "   3.02e-14 in clearing_A\n",
      "   1.69e-14 in clearing_G\n",
      "\n",
      "transition path found in 0.5 secs\n"
     ]
    }
   ],
   "source": [
    "model.find_transition_path(shocks=[],do_print=True)"
   ]
  },
  {
   "attachments": {},
   "cell_type": "markdown",
   "metadata": {},
   "source": [
    "# Question 1 Stationary Equalibrium without gov "
   ]
  },
  {
   "attachments": {},
   "cell_type": "markdown",
   "metadata": {},
   "source": [
    "### 1.1 Steady state values"
   ]
  },
  {
   "cell_type": "code",
   "execution_count": 11,
   "metadata": {},
   "outputs": [
    {
     "name": "stdout",
     "output_type": "stream",
     "text": [
      "Steady state values:\n",
      "K              : 3.3887\n",
      "L_Y            : 0.9225\n",
      "rK             : 0.1207\n",
      "w              : 1.0342\n",
      "Y              : 1.3630\n",
      "A              : 3.3887\n",
      "r              : 0.0207\n",
      "tau            : 0.0000\n",
      "wt             : 1.0342\n",
      "L_G            : 0.0000\n",
      "G              : 0.0000\n",
      "Chi            : 0.0000\n",
      "S              : 0.0000\n",
      "Gamma_G        : 1.0000\n",
      "A_hh           : 3.3887\n",
      "C_hh           : 1.0241\n",
      "ELL_hh         : 0.9897\n",
      "L_hh           : 0.9225\n",
      "INC_hh         : 1.0241\n",
      "U_hh           : -100000001.6179\n",
      "L              : 0.9225\n",
      "I              : 0.3389\n",
      "clearing_A     : 0.0000\n",
      "clearing_L     : 0.0000\n",
      "clearing_Y     : 0.0000\n",
      "clearing_G     : 0.0000\n"
     ]
    }
   ],
   "source": [
    "par.G_ = 0.0\n",
    "par.Chi_ = 0.0\n",
    "model.find_ss(do_print=False)\n",
    "print_ss()"
   ]
  },
  {
   "cell_type": "code",
   "execution_count": 12,
   "metadata": {},
   "outputs": [],
   "source": [
    "def udskriv():\n",
    "    with open('output_table.tex', 'w') as file:\n",
    "        file.write(\"\\\\begin{tabular}{l r}\\n\")\n",
    "        file.write(\"\\\\hline\\n\")\n",
    "        file.write(\"Variable Name & Value \\\\\\\\\\n\")\n",
    "        file.write(\"\\\\hline\\n\")\n",
    "        for varname in model.varlist:\n",
    "            file.write(f'{varname} & {ss.__dict__[varname]:.4f} \\\\\\\\\\n')\n",
    "        file.write(\"\\\\hline\\n\")\n",
    "        file.write(\"\\\\end{tabular}\\n\")\n",
    "#udskriv()"
   ]
  },
  {
   "attachments": {},
   "cell_type": "markdown",
   "metadata": {},
   "source": [
    "### 1.2 Policy functions"
   ]
  },
  {
   "cell_type": "code",
   "execution_count": 13,
   "metadata": {},
   "outputs": [
    {
     "data": {
      "image/png": "[encoded data removed]",
      "text/plain": [
       "<Figure size 1800x400 with 3 Axes>"
      ]
     },
     "metadata": {},
     "output_type": "display_data"
    }
   ],
   "source": [
    "i_fix = 0\n",
    "\n",
    "fig = plt.figure(figsize=(18,4),dpi=100)\n",
    "a_max = 100\n",
    "\n",
    "# a. consumption\n",
    "I = par.a_grid < a_max\n",
    "\n",
    "ax = fig.add_subplot(1,3,1)\n",
    "ax.set_title(f'consumption')\n",
    "\n",
    "for i_z in [0,par.Nz//2,par.Nz-1]:\n",
    "    ax.plot(par.a_grid[I],ss.c[i_fix,i_z,I],label=f'i_z = {i_z}')\n",
    "\n",
    "ax.legend(frameon=True)\n",
    "ax.set_xlabel('savings, $a_{t-1}$')\n",
    "ax.set_ylabel('consumption, $c_t$')\n",
    "\n",
    "# b. saving\n",
    "I = par.a_grid < a_max\n",
    "\n",
    "ax = fig.add_subplot(1,3,2)\n",
    "ax.set_title(f'saving')\n",
    "\n",
    "for i_z in [0,par.Nz//2,par.Nz-1]:\n",
    "    ax.plot(par.a_grid[I],ss.a[i_fix,i_z,I],label=f'i_z = {i_z}')\n",
    "\n",
    "ax.set_xlabel('savings, $a_{t-1}$')\n",
    "ax.set_ylabel('savings, $a_{t}$')\n",
    "\n",
    "# c. labor supply\n",
    "I = par.a_grid < a_max\n",
    "\n",
    "ax = fig.add_subplot(1,3,3)\n",
    "ax.set_title(f'labor_supply')\n",
    "\n",
    "for i_z in [0,par.Nz//2,par.Nz-1]:\n",
    "    ax.plot(par.a_grid[I],ss.ell[i_fix,i_z,I],label=f'i_z = {i_z}')\n",
    "\n",
    "ax.set_xlabel('savings, $a_{t-1}$')\n",
    "ax.set_ylabel('labor supply, $n_{t}$')\n",
    "\n",
    "\n",
    "fig.tight_layout()\n",
    "#save figure\n",
    "#fig.savefig('figs/fig_policy.png', bbox_inches='tight')\n",
    "\n",
    "plt.show()"
   ]
  },
  {
   "attachments": {},
   "cell_type": "markdown",
   "metadata": {},
   "source": [
    "### 1.3 Distribution in ss "
   ]
  },
  {
   "cell_type": "code",
   "execution_count": 14,
   "metadata": {},
   "outputs": [
    {
     "data": {
      "image/png": "[encoded data removed]",
      "text/plain": [
       "<Figure size 1200x400 with 2 Axes>"
      ]
     },
     "metadata": {},
     "output_type": "display_data"
    }
   ],
   "source": [
    "fig = plt.figure(figsize=(12,4),dpi=100)\n",
    "\n",
    "# a. income\n",
    "ax = fig.add_subplot(1,2,1)\n",
    "ax.set_title('productivity')\n",
    "\n",
    "y = np.cumsum(np.sum(ss.D,axis=(0,2)))\n",
    "ax.plot(par.z_grid,y/y[-1])\n",
    "\n",
    "ax.set_xlabel('productivity, $z_{t}$')\n",
    "ax.set_ylabel('CDF')\n",
    "\n",
    "# b. assets\n",
    "ax = fig.add_subplot(1,2,2)\n",
    "ax.set_title('savings')\n",
    "y = np.insert(np.cumsum(np.sum(ss.D,axis=(0,1))),0,0.0)\n",
    "ax.plot(np.insert(par.a_grid,0,par.a_grid[0]),y/y[-1])\n",
    "        \n",
    "ax.set_xlabel('assets, $a_{t}$')\n",
    "ax.set_ylabel('CDF')\n",
    "ax.set_xscale('symlog')\n",
    "\n",
    "#save figure\n",
    "#fig.savefig('figs/fig_distribution.png', bbox_inches='tight')\n",
    "plt.show()"
   ]
  },
  {
   "attachments": {},
   "cell_type": "markdown",
   "metadata": {},
   "source": [
    "### 1.4 Expected discounted utility"
   ]
  },
  {
   "cell_type": "code",
   "execution_count": 15,
   "metadata": {},
   "outputs": [
    {
     "name": "stdout",
     "output_type": "stream",
     "text": [
      "Utility: -5.7807\n"
     ]
    },
    {
     "data": {
      "image/png": "[encoded data removed]",
      "text/plain": [
       "<Figure size 1200x600 with 1 Axes>"
      ]
     },
     "metadata": {},
     "output_type": "display_data"
    }
   ],
   "source": [
    "#Ploting the accumulation discounted utility\n",
    "#par.T = 500\n",
    "time_ = [1, 10, 20, 30, 40, 50,  100, 150, 200, 250, 300, 350, 400, 450, 500]\n",
    "\n",
    "#time_ = [1, 10, 100, 150, 200, 250, 300, 350, 400, 450, 500]\n",
    "\n",
    "\n",
    "time_past = []\n",
    "disc_utility = []\n",
    "for i in time_:\n",
    "    par.T = i \n",
    "    time_past.append(i)\n",
    "    U =np.sum([par.beta**t * np.sum(path.u[t]*path.D[t]/np.sum(path.D[t])) for t in range(par.T)])\n",
    "    disc_utility.append(U)\n",
    "\n",
    "\n",
    "print(f'Utility: {disc_utility[-0]:.4f}')\n",
    "\n",
    "#figure \n",
    "fig = plt.figure(figsize=(12,6))\n",
    "ax = fig.add_subplot(1,1,1)\n",
    "ax.plot(time_past, disc_utility, label='Discounted Utility')\n",
    "ax.set_xlabel('Time')\n",
    "ax.set_ylabel('Utility')\n",
    "ax.legend()\n",
    "\n",
    "# save figure\n",
    "#fig.savefig('figs/fig_disc_utility.png', bbox_inches='tight')\n",
    "#print(disc_utility)\n",
    "plt.show()\n",
    "\n"
   ]
  },
  {
   "attachments": {},
   "cell_type": "markdown",
   "metadata": {},
   "source": [
    "# 2. Optimal welfare policies 1 (no transfers)"
   ]
  },
  {
   "attachments": {},
   "cell_type": "markdown",
   "metadata": {},
   "source": [
    "### 2.1 Defining new functions"
   ]
  },
  {
   "cell_type": "code",
   "execution_count": 16,
   "metadata": {},
   "outputs": [],
   "source": [
    "# New objetctiv function \n",
    "def u_gov(x):\n",
    "    \"\"\"ss discounted sum of utility  given government level\"\"\"\n",
    "    par.G_ = x\n",
    "    model.find_ss(do_print=False)\n",
    "\n",
    "    #model.find_transition_path(shocks=[],do_print=False)\n",
    "    model.test_path(in_place=False) \n",
    "    model.compute_jacs(do_print=False)\n",
    "    model.find_transition_path(shocks=[],do_print=False)\n",
    "\n",
    "    U =np.sum([par.beta**t * np.sum(path.u[t]*path.D[t]/np.sum(path.D[t])) for t in range(par.T)])\n",
    "    \n",
    "    return U\n",
    "\n",
    "def obj_gov(x):\n",
    "    \"\"\"Objective function with government as the choice variable\"\"\"\n",
    "    return - u_gov(x)\n",
    "\n",
    "#u_gov(0.1)"
   ]
  },
  {
   "attachments": {},
   "cell_type": "markdown",
   "metadata": {},
   "source": [
    "### 2.2 Function for calculations"
   ]
  },
  {
   "cell_type": "code",
   "execution_count": 17,
   "metadata": {},
   "outputs": [
    {
     "name": "stdout",
     "output_type": "stream",
     "text": [
      "shocks: G L_G Gamma_G \n",
      "unknowns: K L_Y \n",
      "\n",
      "blocks.production_firm\n",
      " rK               0.0e+00\n",
      " w                0.0e+00\n",
      " Y                0.0e+00\n",
      "blocks.mutual_fund\n",
      " A                0.0e+00\n",
      " r                0.0e+00\n",
      "blocks.government\n",
      " tau              0.0e+00\n",
      " wt               0.0e+00\n",
      " Chi              0.0e+00\n",
      " S                0.0e+00\n",
      "hh\n",
      " A_hh             9.6e-10\n",
      " C_hh             2.5e-11\n",
      " ELL_hh           1.2e-10\n",
      " L_hh             9.7e-11\n",
      " INC_hh           3.2e-12\n",
      " U_hh             2.7e-10\n",
      "blocks.market_clearing\n",
      " L                9.7e-11\n",
      " I                1.1e-16\n",
      " clearing_A       9.6e-10 [target]\n",
      " clearing_L       9.7e-11\n",
      " clearing_Y       2.5e-11\n",
      " clearing_G       6.8e-11 [target]\n"
     ]
    },
    {
     "name": "stderr",
     "output_type": "stream",
     "text": [
      "/Users/emmagundersen/Library/Mobile Documents/com~apple~CloudDocs/KU/9 semester/Het_assignments/Assignment_2/Assignment_II/steady_state.py:90: RuntimeWarning: invalid value encountered in double_scalars\n",
      "  ss.Y = par.Gamma_Y*ss.K**(par.alpha)*ss.L_Y**(1-par.alpha) # Total privat production\n"
     ]
    },
    {
     "name": "stdout",
     "output_type": "stream",
     "text": [
      "shocks: G L_G Gamma_G \n",
      "unknowns: K L_Y \n",
      "\n",
      "blocks.production_firm\n",
      " rK               0.0e+00\n",
      " w                0.0e+00\n",
      " Y                0.0e+00\n",
      "blocks.mutual_fund\n",
      " A                0.0e+00\n",
      " r                0.0e+00\n",
      "blocks.government\n",
      " tau              0.0e+00\n",
      " wt               0.0e+00\n",
      " Chi              0.0e+00\n",
      " S                0.0e+00\n",
      "hh\n",
      " A_hh             1.2e-09\n",
      " C_hh             3.1e-11\n",
      " ELL_hh           2.0e-10\n",
      " L_hh             1.6e-10\n",
      " INC_hh           1.4e-12\n",
      " U_hh             5.0e-10\n",
      "blocks.market_clearing\n",
      " L                1.6e-10\n",
      " I                5.6e-17\n",
      " clearing_A       9.1e-10 [target]\n",
      " clearing_L       1.6e-10\n",
      " clearing_Y       3.1e-11\n",
      " clearing_G       4.3e-10 [target]\n",
      "shocks: G L_G Gamma_G \n",
      "unknowns: K L_Y \n",
      "\n",
      "blocks.production_firm\n",
      " rK               0.0e+00\n",
      " w                0.0e+00\n",
      " Y                0.0e+00\n",
      "blocks.mutual_fund\n",
      " A                0.0e+00\n",
      " r                0.0e+00\n",
      "blocks.government\n",
      " tau              0.0e+00\n",
      " wt               0.0e+00\n",
      " Chi              0.0e+00\n",
      " S                0.0e+00\n",
      "hh\n",
      " A_hh             8.7e-10\n",
      " C_hh             2.3e-11\n",
      " ELL_hh           9.4e-11\n",
      " L_hh             7.6e-11\n",
      " INC_hh           5.0e-12\n",
      " U_hh             2.0e-10\n",
      "blocks.market_clearing\n",
      " L                7.6e-11\n",
      " I                2.8e-16\n",
      " clearing_A       4.0e-09 [target]\n",
      " clearing_L       7.6e-11\n",
      " clearing_Y       2.3e-11\n",
      " clearing_G       6.0e-10 [target]\n",
      "shocks: G L_G Gamma_G \n",
      "unknowns: K L_Y \n",
      "\n",
      "blocks.production_firm\n",
      " rK               0.0e+00\n",
      " w                0.0e+00\n",
      " Y                0.0e+00\n",
      "blocks.mutual_fund\n",
      " A                0.0e+00\n",
      " r                0.0e+00\n",
      "blocks.government\n",
      " tau              0.0e+00\n",
      " wt               0.0e+00\n",
      " Chi              0.0e+00\n",
      " S                0.0e+00\n",
      "hh\n",
      " A_hh             8.9e-10\n",
      " C_hh             2.3e-11\n",
      " ELL_hh           1.0e-10\n",
      " L_hh             8.2e-11\n",
      " INC_hh           4.4e-12\n",
      " U_hh             2.2e-10\n",
      "blocks.market_clearing\n",
      " L                8.2e-11\n",
      " I                5.6e-17\n",
      " clearing_A       8.9e-10 [target]\n",
      " clearing_L       8.2e-11\n",
      " clearing_Y       2.3e-11\n",
      " clearing_G       5.4e-11 [target]\n",
      "shocks: G L_G Gamma_G \n",
      "unknowns: K L_Y \n",
      "\n",
      "blocks.production_firm\n",
      " rK               0.0e+00\n",
      " w                0.0e+00\n",
      " Y                0.0e+00\n",
      "blocks.mutual_fund\n",
      " A                0.0e+00\n",
      " r                0.0e+00\n",
      "blocks.government\n",
      " tau              0.0e+00\n",
      " wt               0.0e+00\n",
      " Chi              0.0e+00\n",
      " S                0.0e+00\n",
      "hh\n",
      " A_hh             8.9e-10\n",
      " C_hh             2.3e-11\n",
      " ELL_hh           1.0e-10\n",
      " L_hh             8.2e-11\n",
      " INC_hh           4.4e-12\n",
      " U_hh             2.2e-10\n",
      "blocks.market_clearing\n",
      " L                8.2e-11\n",
      " I                1.1e-16\n",
      " clearing_A       9.4e-10 [target]\n",
      " clearing_L       8.2e-11\n",
      " clearing_Y       2.3e-11\n",
      " clearing_G       6.2e-11 [target]\n",
      "shocks: G L_G Gamma_G \n",
      "unknowns: K L_Y \n",
      "\n",
      "blocks.production_firm\n",
      " rK               0.0e+00\n",
      " w                0.0e+00\n",
      " Y                0.0e+00\n",
      "blocks.mutual_fund\n",
      " A                0.0e+00\n",
      " r                0.0e+00\n",
      "blocks.government\n",
      " tau              0.0e+00\n",
      " wt               0.0e+00\n",
      " Chi              0.0e+00\n",
      " S                0.0e+00\n",
      "hh\n",
      " A_hh             9.0e-10\n",
      " C_hh             2.4e-11\n",
      " ELL_hh           1.0e-10\n",
      " L_hh             8.3e-11\n",
      " INC_hh           4.5e-12\n",
      " U_hh             2.2e-10\n",
      "blocks.market_clearing\n",
      " L                8.3e-11\n",
      " I                2.2e-16\n",
      " clearing_A       9.0e-10 [target]\n",
      " clearing_L       8.3e-11\n",
      " clearing_Y       2.4e-11\n",
      " clearing_G       5.5e-11 [target]\n",
      "shocks: G L_G Gamma_G \n",
      "unknowns: K L_Y \n",
      "\n",
      "blocks.production_firm\n",
      " rK               0.0e+00\n",
      " w                0.0e+00\n",
      " Y                0.0e+00\n",
      "blocks.mutual_fund\n",
      " A                0.0e+00\n",
      " r                0.0e+00\n",
      "blocks.government\n",
      " tau              0.0e+00\n",
      " wt               0.0e+00\n",
      " Chi              0.0e+00\n",
      " S                0.0e+00\n",
      "hh\n",
      " A_hh             9.0e-10\n",
      " C_hh             2.4e-11\n",
      " ELL_hh           1.0e-10\n",
      " L_hh             8.3e-11\n",
      " INC_hh           4.5e-12\n",
      " U_hh             2.2e-10\n",
      "blocks.market_clearing\n",
      " L                8.3e-11\n",
      " I                1.7e-16\n",
      " clearing_A       9.0e-10 [target]\n",
      " clearing_L       8.3e-11\n",
      " clearing_Y       2.4e-11\n",
      " clearing_G       5.5e-11 [target]\n",
      "shocks: G L_G Gamma_G \n",
      "unknowns: K L_Y \n",
      "\n",
      "blocks.production_firm\n",
      " rK               0.0e+00\n",
      " w                0.0e+00\n",
      " Y                0.0e+00\n",
      "blocks.mutual_fund\n",
      " A                0.0e+00\n",
      " r                0.0e+00\n",
      "blocks.government\n",
      " tau              0.0e+00\n",
      " wt               0.0e+00\n",
      " Chi              0.0e+00\n",
      " S                0.0e+00\n",
      "hh\n",
      " A_hh             9.0e-10\n",
      " C_hh             2.4e-11\n",
      " ELL_hh           1.0e-10\n",
      " L_hh             8.3e-11\n",
      " INC_hh           4.5e-12\n",
      " U_hh             2.2e-10\n",
      "blocks.market_clearing\n",
      " L                8.3e-11\n",
      " I                1.7e-16\n",
      " clearing_A       9.0e-10 [target]\n",
      " clearing_L       8.3e-11\n",
      " clearing_Y       2.4e-11\n",
      " clearing_G       5.5e-11 [target]\n",
      "Optimal value of x: 0.41493434684586694, given Chi = 0.0\n",
      "Optimal objective function value: -138.96802955593157\n",
      "G/Y at the optimal level of G : 0.33978899419992215\n"
     ]
    }
   ],
   "source": [
    "# Optimize the objective function within the specified range\n",
    "par.Chi_ = 0.0\n",
    "\n",
    "result = minimize_scalar( obj_gov, bounds=(0.3, 0.7), method='bounded')\n",
    "\n",
    "# Print the optimization result\n",
    "print(f\"Optimal value of x: { result.x}, given Chi = {ss.Chi}\")\n",
    "print(f\"Optimal objective function value: {- result.fun}\")\n",
    "print(f\"G/Y at the optimal level of G : {ss.G/ss.Y}\")\n"
   ]
  },
  {
   "cell_type": "code",
   "execution_count": null,
   "metadata": {},
   "outputs": [],
   "source": [
    "def calc_chi(chi):\n",
    "    par.Chi_ = chi\n",
    "    g_values = [0.3, 0.33, 0.36, 0.39, 0.42, 0.45, 0.48, 0.51]\n",
    "    g_values = [ 0.3, 0.35, 0.4, 0.45, 0.5]\n",
    "    u_values = [u_gov(x) for x in g_values]\n",
    "\n",
    "    result = minimize_scalar(obj_gov, bounds=(0.3, 0.55), method='bounded')\n",
    "\n",
    "    Chi_val = ss.Chi\n",
    "    Gov_val = result.x\n",
    "    U_val = -result.fun\n",
    "    Y_G_relatio = ss.G/ss.Y\n",
    "\n",
    "    # Creating a dictionary to hold the results\n",
    "    result_dict = {\n",
    "        'Chi_val': Chi_val,\n",
    "        'Gov_opt': Gov_val,\n",
    "        'U_opt': U_val,\n",
    "        'Y_G_relatio': Y_G_relatio,\n",
    "        'g_values': g_values,\n",
    "        'u_values': u_values\n",
    "    }  \n",
    "    return result_dict\n",
    "\n",
    "chi_results = {}\n",
    "\n",
    "# Populate the outer dictionary\n",
    "chi_values = [-0.1, 0.0, 0.1]  # List of chi values to compute\n",
    "for chi in chi_values:\n",
    "    chi_results[str(chi)] = calc_chi(chi)\n"
   ]
  },
  {
   "cell_type": "code",
   "execution_count": null,
   "metadata": {},
   "outputs": [],
   "source": [
    "with open('output_gov_chi.tex', 'w') as file:\n",
    "    file.write(\"\\\\begin{tabular}{c c c c}\\n\")\n",
    "    file.write(\"\\\\hline\\n\")\n",
    "    file.write(\"Chi & Government & U & Y/G \\\\\\\\\\n\")\n",
    "    file.write(\"\\\\hline\\n\")\n",
    "    for i in range(len(chi_val)):\n",
    "        file.write(f\"{chi_val[i]} & {gov_val[i]:.4f} & {u_val[i]:.4f} & {y_G_relatio[i]:.4f} \\\\\\\\\\n\")\n",
    "    file.write(\"\\\\hline\\n\")\n",
    "    file.write(\"\\\\end{tabular}\\n\")"
   ]
  },
  {
   "cell_type": "code",
   "execution_count": null,
   "metadata": {},
   "outputs": [],
   "source": [
    "fig = plt.figure(figsize=(7, 7), dpi=100)\n",
    "ax = fig.add_subplot(1, 1, 1)\n",
    "ax.set_title('Title')\n",
    "\n",
    "# Plot function for chi = 0 \n",
    "ax.plot(chi_results['-0.1']['g_values'], chi_results['-0.1']['u_values'], label='Chi = -0.1')\n",
    "ax.plot(chi_results['0.0']['g_values'], chi_results['0.0']['u_values'], label='Chi = 0')\n",
    "ax.plot(chi_results['0.1']['g_values'], chi_results['0.1']['u_values'], label='Chi = 0.1')\n",
    "ax.set_xlabel('Government production')\n",
    "ax.set_ylabel('Discounted expected utility')\n",
    "ax.set_title('Plot of Objective Function')\n",
    "ax.grid(True)\n",
    "ax.legend()\n",
    "\n",
    "\n",
    "# Optimal government consumption\n",
    "ax.scatter(chi_results['-0.1']['Gov_opt'], chi_results['-0.1']['U_opt'], color='red', label='Optimal government consumption', marker='o')\n",
    "ax.scatter(chi_results['0.0']['Gov_opt'], chi_results['0.0']['U_opt'], color='red', marker='o')\n",
    "ax.scatter(chi_results['0.1']['Gov_opt'], chi_results['0.1']['U_opt'], color='red', marker='o')\n",
    "ax.legend()\n",
    "\n",
    "# Gather optimal points for plotting the line\n",
    "#opt_gov_values = [chi_results[chi]['Gov_opt'] for chi in ['-0.1', '0.0', '0.1']]\n",
    "#opt_u_values = [chi_results[chi]['U_opt'] for chi in ['-0.1', '0.0', '0.1']]\n",
    "\n",
    "# Plotting the line connecting optimal points\n",
    "#ax.plot(opt_gov_values, opt_u_values, color='blue', linestyle='-', marker='o', label='Optimal Path')\n",
    "\n",
    "\n",
    "#fig.savefig('figs/fig_opt_gov.png', bbox_inches='tight')"
   ]
  },
  {
   "cell_type": "code",
   "execution_count": null,
   "metadata": {},
   "outputs": [],
   "source": [
    "for i in [-0.1, 0.0, 0.1]:\n",
    "    par.Chi_ = i\n",
    "\n",
    "    result = minimize_scalar( obj_gov, bounds=(0.3, 0.6), method='bounded')\n",
    "\n",
    "    chi_val.append(ss.Chi)\n",
    "    gov_val.append(result.x)\n",
    "    u_val.append(- result.fun)\n",
    "    y_G_relatio.append(ss.G/ss.Y)\n"
   ]
  },
  {
   "cell_type": "code",
   "execution_count": null,
   "metadata": {},
   "outputs": [],
   "source": [
    "print(result)"
   ]
  },
  {
   "cell_type": "code",
   "execution_count": null,
   "metadata": {},
   "outputs": [],
   "source": [
    "print(chi_val)\n",
    "print(gov_val)\n",
    "print(u_val)\n",
    "print(y_G_relatio)"
   ]
  },
  {
   "cell_type": "code",
   "execution_count": null,
   "metadata": {},
   "outputs": [],
   "source": [
    "print(chi_val)\n",
    "print(gov_val)\n",
    "print(u_val)\n",
    "print(y_G_relatio)"
   ]
  },
  {
   "cell_type": "code",
   "execution_count": null,
   "metadata": {},
   "outputs": [],
   "source": [
    "print(chi_val)\n",
    "print(gov_val)\n",
    "print(u_val)\n",
    "print(y_G_relatio)\n"
   ]
  },
  {
   "cell_type": "code",
   "execution_count": null,
   "metadata": {},
   "outputs": [],
   "source": [
    "#Testing different values of chi\n",
    "\n",
    "    par.Chi_ = i\n",
    "\n",
    "    result = minimize_scalar( obj_gov, bounds=(0.3, 0.6), method='bounded')\n",
    "\n",
    "    chi_val.append(ss.Chi)\n",
    "    gov_val.append(result.x)\n",
    "    u_val.append(- result.fun)\n",
    "    y_G_relatio.append(ss.G/ss.Y)\n",
    "\n",
    "\n",
    "g_values = [0.1, 0.2, 0.3, 0.4, 0.5, 0.6, 0.7, 0.8, 0.9]\n",
    "u_values = [u_gov(x) for x in g_values]\n",
    "\n",
    "chi_neg1 = [g_values, u_values]"
   ]
  },
  {
   "cell_type": "code",
   "execution_count": null,
   "metadata": {},
   "outputs": [],
   "source": [
    "#calculations for vaious chi \n",
    "\n",
    "def calc_chi(chi):\n",
    "\n",
    "    par.Chi_ = chi\n",
    "#    g_values = [0.1, 0.2, 0.3, 0.4, 0.5, 0.6, 0.7, 0.8, 0.9]\n",
    "    g_values = [ 0.3, 0.4]\n",
    "    u_values = [u_gov(x) for x in g_values]\n",
    "\n",
    "    result = minimize_scalar( obj_gov, bounds=(0.3, 0.6), method='bounded')\n",
    "\n",
    "    Chi_val = ss.Chi\n",
    "    Gov_val = result.x\n",
    "    U_val = - result.fun\n",
    "    Y_G_relatio = ss.G/ss.Y\n",
    "    \n",
    "    return Chi_val, Gov_val, U_val, Y_G_relatio, g_values, u_values\n",
    "\n",
    "chi_neg1 = calc_chi(-0.1)"
   ]
  },
  {
   "cell_type": "code",
   "execution_count": null,
   "metadata": {},
   "outputs": [],
   "source": [
    "par.Chi_ = 0.1\n",
    "u_gov(0.6)"
   ]
  },
  {
   "cell_type": "code",
   "execution_count": null,
   "metadata": {},
   "outputs": [],
   "source": [
    "#Table of results\n",
    "with open('output_gov_chi.tex', 'w') as file:\n",
    "    file.write(\"\\\\begin{tabular}{c c c c}\\n\")\n",
    "    file.write(\"\\\\hline\\n\")\n",
    "    file.write(\"Chi & Government & U & Y/G \\\\\\\\\\n\")\n",
    "    file.write(\"\\\\hline\\n\")\n",
    "    for chi in chi_values:\n",
    "        file.write(f\"{chi} & {chi_results[str(chi)]['Gov_opt']:.4f} & {chi_results[str(chi)]['U_opt']:.4f} & {chi_results[str(chi)]['Y_G_relatio']:.4f} \\\\\\\\\\n\")\n",
    "    file.write(\"\\\\hline\\n\")\n",
    "    file.write(\"\\\\end{tabular}\\n\")\n"
   ]
  },
  {
   "cell_type": "code",
   "execution_count": null,
   "metadata": {},
   "outputs": [],
   "source": [
    "g_values = [0.1, 0.3, 0.4, 0.5, 0.6, 0.7, 0.9]\n",
    "u_values = [u_gov(x) for x in g_values]\n",
    "\n",
    "print(g_values)\n",
    "print(u_values)"
   ]
  },
  {
   "cell_type": "code",
   "execution_count": null,
   "metadata": {},
   "outputs": [],
   "source": [
    "# Initialize plot\n",
    "fig = plt.figure(figsize=(7, 7), dpi=100)\n",
    "ax = fig.add_subplot(1, 1, 1)\n",
    "ax.set_xlabel('Government production')\n",
    "ax.set_ylabel('Discounted expected utility')\n",
    "ax.set_title('Plot of Objective Function')\n",
    "ax.grid(True)\n",
    "\n",
    "# Plot objective function\n",
    "ax.plot(g_values, u_values, lw=2, alpha=0.7, label='Objective function')"
   ]
  },
  {
   "cell_type": "code",
   "execution_count": null,
   "metadata": {},
   "outputs": [],
   "source": [
    "#result = minimize_scalar( obj_gov, bounds=(0.375, 0.45), method='bounded')\n",
    "\n",
    "#g_values = np.linspace(0.3, 0.5, 10)\n",
    "#u_values = [u_gov(x) for x in g_values]\n",
    "\n",
    "fig = plt.figure(figsize=(7, 7), dpi=100)\n",
    "ax = fig.add_subplot(1, 1, 1)\n",
    "ax.set_title('Title')\n",
    "\n",
    "# Plot the gov_u function\n",
    "ax.plot(g_values, u_values, label='Objective Function')\n",
    "ax.set_xlabel('Government production')\n",
    "ax.set_ylabel('Discounted expected utility')\n",
    "ax.set_title('Plot of Objective Function')\n",
    "ax.grid(True)\n",
    "ax.legend()\n",
    "\n",
    "# Optimal government consumption\n",
    "#ax.scatter(result.x, u_gov(result.x), color='red', label='Optimal government consumption', marker='o')\n",
    "ax.legend()\n",
    "\n",
    "#fig.savefig('figs/fig_opt_gov.png', bbox_inches='tight')"
   ]
  },
  {
   "attachments": {},
   "cell_type": "markdown",
   "metadata": {},
   "source": [
    "### 2.2 Solving for the optimal government production"
   ]
  },
  {
   "cell_type": "code",
   "execution_count": null,
   "metadata": {},
   "outputs": [],
   "source": [
    "result = minimize_scalar( obj_gov, bounds=(0.3, 0.7), method='bounded')\n",
    "chi_val.append(ss.Chi)\n",
    "gov_val.append(result.x)\n",
    "u_val.append(- result.fun)\n",
    "y_G_relatio.append(ss.G/ss.Y)\n",
    "\n"
   ]
  },
  {
   "cell_type": "code",
   "execution_count": null,
   "metadata": {},
   "outputs": [],
   "source": [
    "result.x\n",
    "\n",
    "\n",
    "chi_val.append(par.Chi_ )\n",
    "gov_val.append(ss.G)\n",
    "u_val.append(u_gov(ss.G))\n",
    "y_G_relatio.append(ss.G/ss.Y)\n",
    "\n",
    "print(f'Chi: {ss.Chi:.4f}')\n",
    "print(f'G: {ss.G:.4f}')\n",
    "print(f'Y: {ss.Y:.4f}')\n",
    "print(f'G/Y: {ss.G/ss.Y:.4f}')\n"
   ]
  },
  {
   "cell_type": "code",
   "execution_count": null,
   "metadata": {},
   "outputs": [],
   "source": [
    "print(f'Chi: {chi_val}')\n",
    "print(f'Gov: {gov_val}')\n",
    "print(f'U: {u_val}')\n",
    "print(f'Y/G: {y_G_relatio}')"
   ]
  },
  {
   "cell_type": "code",
   "execution_count": null,
   "metadata": {},
   "outputs": [],
   "source": [
    "print(f'Chi: {chi_val}')\n",
    "print(f'Gov: {gov_val}')\n",
    "print(f'U: {u_val}')\n",
    "print(f'Y/G: {y_G_relatio}')"
   ]
  },
  {
   "attachments": {},
   "cell_type": "markdown",
   "metadata": {},
   "source": [
    "### 2.3 Ploting the utility for given values of g"
   ]
  },
  {
   "attachments": {},
   "cell_type": "markdown",
   "metadata": {},
   "source": [
    "# 3. Find optimal welfare policies II (with transfers)"
   ]
  },
  {
   "attachments": {},
   "cell_type": "markdown",
   "metadata": {},
   "source": [
    "### 3.1 Table with chi and --- "
   ]
  },
  {
   "cell_type": "code",
   "execution_count": null,
   "metadata": {},
   "outputs": [],
   "source": [
    "chi_val = (-0.1, 0.1)\n",
    "chi_val = []\n",
    "gov_val = []\n",
    "u_val = []\n",
    "y_G_relatio = []"
   ]
  },
  {
   "cell_type": "code",
   "execution_count": null,
   "metadata": {},
   "outputs": [],
   "source": [
    "\n",
    "for i in [-0.1, 0.0, 0.1]:\n",
    "      par.Chi_ = i\n",
    "      print(f'Chi = {i}')\n",
    "      result = minimize_scalar( obj_gov, bounds=(0.375, 0.45), method='bounded')\n",
    "      result.x\n",
    "      print(f\"Solution found\")\n",
    "      chi_val.append(par.Chi_ )\n",
    "      gov_val.append(ss.G)\n",
    "      u_val.append(u_gov(ss.G))\n",
    "      y_G_relatio.append(ss.G/ss.Y)\n",
    "      print(f'Første done')\n",
    "      \n",
    "print(f'Chi: {chi_val}')\n",
    "print(f'Gov: {gov_val}')\n",
    "print(f'U: {u_val}')\n",
    "print(f'Y/G: {y_G_relatio}')\n"
   ]
  },
  {
   "cell_type": "code",
   "execution_count": null,
   "metadata": {},
   "outputs": [],
   "source": [
    "print(f'Chi: {chi_val}')\n",
    "print(f'Gov: {gov_val}')\n",
    "print(f'U: {u_val}')\n",
    "print(f'Y/G: {y_G_relatio}')\n"
   ]
  },
  {
   "cell_type": "code",
   "execution_count": null,
   "metadata": {},
   "outputs": [],
   "source": [
    "with open('output_gov_chi.tex', 'w') as file:\n",
    "    file.write(\"\\\\begin{tabular}{c c c c}\\n\")\n",
    "    file.write(\"\\\\hline\\n\")\n",
    "    file.write(\"Chi & Government & U & Y/G \\\\\\\\\\n\")\n",
    "    file.write(\"\\\\hline\\n\")\n",
    "    for i in range(len(chi_val)):\n",
    "        file.write(f\"{chi_val[i]} & {gov_val[i]:.4f} & {u_val[i]:.4f} & {y_G_relatio[i]:.4f} \\\\\\\\\\n\")\n",
    "    file.write(\"\\\\hline\\n\")\n",
    "    file.write(\"\\\\end{tabular}\\n\")"
   ]
  },
  {
   "attachments": {},
   "cell_type": "markdown",
   "metadata": {},
   "source": [
    "### 3.2 Plotting the utility for given values of chi and G "
   ]
  },
  {
   "cell_type": "code",
   "execution_count": null,
   "metadata": {},
   "outputs": [],
   "source": [
    "# GOOD CODE \n",
    "\n",
    "# Define g_values\n",
    "g_values = np.linspace(0.3, 0.5, 10)\n",
    "\n",
    "# Initialize plot\n",
    "fig = plt.figure(figsize=(7, 7), dpi=100)\n",
    "ax = fig.add_subplot(1, 1, 1)\n",
    "ax.set_xlabel('Government production')\n",
    "ax.set_ylabel('Discounted expected utility')\n",
    "ax.set_title('Plot of Objective Function')\n",
    "ax.grid(True)\n",
    "\n",
    "# First scenario: Chi_ = 0.0\n",
    "par.Chi_ = 0.0\n",
    "result = minimize_scalar(obj_gov, bounds=(0.35, 0.45), method='bounded')\n",
    "u_values = [u_gov(x) for x in g_values]\n",
    "ax.plot(g_values, u_values, label='Transfers = 0.0')\n",
    "ax.scatter(result.x, u_gov(result.x), color='red', marker='o')\n",
    "\n",
    "# Second scenario: Chi_ = 0.1\n",
    "par.Chi_ = 0.1\n",
    "result = minimize_scalar(obj_gov, bounds=(0.35, 0.45), method='bounded')\n",
    "u_values = [u_gov(x) for x in g_values]\n",
    "ax.plot(g_values, u_values, label='Transfers = 0.1')\n",
    "ax.scatter(result.x, u_gov(result.x), color='blue', marker='o')\n",
    "\n",
    "\n",
    "# 3 scenario: Chi_ = - 0.1\n",
    "par.Chi_ = - 0.1\n",
    "result = minimize_scalar(obj_gov, bounds=(0.35, 0.45), method='bounded')\n",
    "u_values = [u_gov(x) for x in g_values]\n",
    "ax.plot(g_values, u_values, label='Transfers = - 0.1')\n",
    "ax.scatter(result.x, u_gov(result.x), color='blue', marker='o')\n",
    "\n",
    "# Add legend\n",
    "ax.legend()\n",
    "\n",
    "# Show plot\n",
    "ax.set_title('')\n",
    "\n",
    "#fig.savefig('figs/disc_ut_gov_chi.png', bbox_inches='tight')\n",
    "plt.show()\n"
   ]
  },
  {
   "attachments": {},
   "cell_type": "markdown",
   "metadata": {},
   "source": [
    "### 3.3 plot of \\chi and G (3D)"
   ]
  },
  {
   "attachments": {},
   "cell_type": "markdown",
   "metadata": {},
   "source": [
    "# 4 Increased TFP "
   ]
  },
  {
   "cell_type": "code",
   "execution_count": null,
   "metadata": {},
   "outputs": [],
   "source": [
    "#Copy the steady state values\n",
    "ini_ = model.ss.__dict__.copy()\n",
    "\n"
   ]
  },
  {
   "attachments": {},
   "cell_type": "markdown",
   "metadata": {},
   "source": [
    "# STOP "
   ]
  },
  {
   "cell_type": "code",
   "execution_count": null,
   "metadata": {},
   "outputs": [],
   "source": [
    "# Error  RuntimeWarning: invalid value encountered in double_scalars\n",
    "# Create the figure and subplots\n",
    "fig = plt.figure(figsize=(10, 10), dpi=100)\n",
    "\n",
    "#\n",
    "ax = fig.add_subplot(1, 1, 1)\n",
    "ax.set_title('Productivity')\n",
    "\n",
    "\n",
    "g_values = np.linspace(0.3, 0.5, 20)\n",
    "u_values = [u_gov(x) for x in g_values]\n",
    "\n",
    "\n",
    "# Plot the objective function\n",
    "ax.plot(g_values, u_values, label='Objective Function')\n",
    "ax.set_xlabel('Government production')\n",
    "ax.set_ylabel('Discounted expected utility')\n",
    "ax.set_title('Plot of Objective Function')\n",
    "ax.grid(True)\n",
    "ax.legend()\n",
    "\n",
    "# Plot the minimum point\n",
    "ax.scatter(result.x, u_gov(result.x), color='red', label='Optimal government consumption', marker='o')\n",
    "ax.legend()\n",
    "\n",
    "# Save figure\n",
    "fig.savefig('figs/fig_optimal_G.png', bbox_inches='tight')\n",
    "\n",
    "# Show the figure\n",
    "plt.show()\n"
   ]
  },
  {
   "attachments": {},
   "cell_type": "markdown",
   "metadata": {},
   "source": [
    "## Question 3"
   ]
  },
  {
   "cell_type": "code",
   "execution_count": null,
   "metadata": {},
   "outputs": [],
   "source": [
    "# Optimize the objective function within the specified range\n",
    "par.Chi_ss = 0.05\n",
    "\n",
    "result = minimize_scalar( obj_gov, bounds=(0.375, 0.45), method='bounded')\n",
    "\n",
    "# Print the optimization result\n",
    "print(f\"Optimal value of x: {- result.x}, given Chi = {ss.Chi}\")\n",
    "print(f\"Optimal objective function value: {- result.fun}\")\n",
    "\n",
    "# G/Y in the steady state\n",
    "# PROBLEM - G in the steady state: 1.22 skal være 0.41493\n",
    "print(f\"G/Y in the steady state: {ss.G/ss.Y}\")\n",
    "print(f\"L_G in the steady state: {ss.L_G}\")\n",
    "print(f\"G in the steady state: {ss.Y}\")\n",
    "print(f\"Y in the steady state: {ss.Gamma_G}\")\n",
    "print(f'S in the steady state: {ss.S}')\n",
    "print(f'Chi in the steady state: {ss.Chi}')\n",
    "print(f'U_hh in the steady state: {ss.U_hh}')\n",
    "print(f'G_ss in the steady state: {par.G_ss}')"
   ]
  },
  {
   "cell_type": "code",
   "execution_count": null,
   "metadata": {},
   "outputs": [],
   "source": [
    "# Error  RuntimeWarning: invalid value encountered in double_scalars\n",
    "# Create the figure and subplots\n",
    "fig = plt.figure(figsize=(10, 10), dpi=100)\n",
    "\n",
    "#\n",
    "ax = fig.add_subplot(1, 1, 1)\n",
    "ax.set_title('Productivity')\n",
    "\n",
    "g_values = np.linspace(0.3, 0.5, 10)\n",
    "u_values = [u_gov(x) for x in g_values]\n",
    "\n",
    "\n",
    "# Plot the objective function\n",
    "ax.plot(g_values, u_values, label='Objective Function')\n",
    "ax.set_xlabel('Government production')\n",
    "ax.set_ylabel('Discounted expected utility')\n",
    "ax.set_title('Plot of Objective Function')\n",
    "ax.grid(True)\n",
    "ax.legend()\n",
    "\n",
    "# Plot the minimum point\n",
    "ax.scatter(result.x, u_gov(result.x), color='red', label='Optimal government consumption', marker='o')\n",
    "ax.legend()\n",
    "\n",
    "# Save figure\n",
    "#fig.savefig(f'figs/fig_optimal_G_{ss.Chi}.png', bbox_inches='tight')\n",
    "\n",
    "# Show the figure\n",
    "plt.show()\n"
   ]
  },
  {
   "cell_type": "code",
   "execution_count": null,
   "metadata": {},
   "outputs": [],
   "source": [
    "# Define Chi and G values more densely for a smooth surface\n",
    "#Chi_values = np.linspace(0.0, 0.1, 2)  # Increased number of points for smoothness\n",
    "#G_values = np.linspace(0.4, 0.4, 2)\n",
    "\n",
    "\n",
    "# Create a meshgrid\n",
    "#Chi_grid, G_grid = np.meshgrid(Chi_values, G_values)\n",
    "\n",
    "print(f'Chi_grid: {Chi_grid}')\n",
    "print(f'Chi_grid: {G_grid}')\n",
    "print(f'U_grid: {U_grid}')"
   ]
  },
  {
   "cell_type": "code",
   "execution_count": null,
   "metadata": {},
   "outputs": [],
   "source": [
    "# Define Chi and G values more densely for a smooth surface\n",
    "Chi_values = np.linspace(0.0, 0.1, 2)  # Increased number of points for smoothness\n",
    "G_values = np.linspace(0.4, 0.4, 2)\n",
    "\n",
    "\n",
    "# Create a meshgrid\n",
    "Chi_grid, G_grid = np.meshgrid(Chi_values, G_values)\n",
    "\n",
    "# Initialize an empty grid for U values\n",
    "U_grid = np.zeros_like(Chi_grid)\n",
    "\n",
    "# Compute U values for each combination of Chi and G\n",
    "for i in range(Chi_grid.shape[0]):\n",
    "    for j in range(G_grid.shape[1]):\n",
    "\n",
    "        par.Chi_ss = Chi_grid[i, j]\n",
    "        par.G_ss = G_grid[i, j]\n",
    "        model.find_ss(do_print=False)\n",
    "        U_grid[i, j] = ss.U_hh"
   ]
  },
  {
   "cell_type": "code",
   "execution_count": null,
   "metadata": {},
   "outputs": [],
   "source": [
    "# Plotting\n",
    "fig = plt.figure()\n",
    "ax = fig.add_subplot(111, projection='3d')\n",
    "\n",
    "# Surface plot with color based on U values\n",
    "surface = ax.plot_surface(Chi_grid, G_grid, U_grid, cmap='viridis')\n",
    "\n",
    "# Adding a color bar\n",
    "cbar = plt.colorbar(surface)\n",
    "cbar.set_label('U values')\n",
    "\n",
    "# Labeling axes\n",
    "ax.set_xlabel('Chi')\n",
    "ax.set_ylabel('G')\n",
    "ax.set_zlabel('U')\n",
    "\n",
    "# Show plot\n",
    "plt.show()"
   ]
  },
  {
   "attachments": {},
   "cell_type": "markdown",
   "metadata": {},
   "source": [
    "# 3. Optimal welfare policies 2 (with transfers)"
   ]
  },
  {
   "cell_type": "code",
   "execution_count": null,
   "metadata": {},
   "outputs": [],
   "source": [
    "\n",
    "# Define Chi and G values more densely for a smooth surface\n",
    "#Chi_values = np.linspace(0.0, 0.1, 5)  # Increased number of points for smoothness\n",
    "#G_values = np.linspace(0.3, 0.5, 5)\n",
    "\n",
    "# Create a meshgrid\n",
    "#Chi_grid, G_grid = np.meshgrid(Chi_values, G_values)\n",
    "\n",
    "# Initialize an empty grid for U values\n",
    "#U_grid = np.zeros_like(Chi_grid)\n",
    "\n",
    "# Compute U values for each combination of Chi and G\n",
    "#for i in range(Chi_grid.shape[0]):\n",
    "#    for j in range(G_grid.shape[1]):\n",
    "#        par.Chi_ = Chi_grid[i, j]\n",
    "#        par.G_ = G_grid[i, j]\n",
    "#        model.find_ss(do_print=False)\n",
    "#        U_grid[i, j] = ss.U_hh\n",
    "\n",
    "# Plotting\n",
    "fig = plt.figure()\n",
    "ax = fig.add_subplot(111, projection='3d')\n",
    "\n",
    "# Surface plot with color based on U values\n",
    "surface = ax.plot_surface(Chi_grid, G_grid, U_grid, cmap='viridis')\n",
    "\n",
    "# Adding a color bar\n",
    "cbar = plt.colorbar(surface)\n",
    "cbar.set_label('U values')\n",
    "\n",
    "# Labeling axes\n",
    "ax.set_xlabel('Chi')\n",
    "ax.set_ylabel('G')\n",
    "ax.set_zlabel('U')\n",
    "\n",
    "# Show plot\n",
    "plt.show()\n"
   ]
  },
  {
   "cell_type": "code",
   "execution_count": null,
   "metadata": {},
   "outputs": [],
   "source": [
    "from mpl_toolkits.mplot3d import Axes3D\n",
    "\n",
    "# ... [your code to compute Chi_list, G_list, U_list] ...\n",
    "\n",
    "# Plotting\n",
    "fig = plt.figure()\n",
    "ax = fig.add_subplot(111, projection='3d')\n",
    "\n",
    "# Scatter plot with color based on U values\n",
    "scatter = ax.scatter(Chi_list, G_list, U_list, c=U_list, cmap='viridis')\n",
    "\n",
    "# Adding a color bar\n",
    "cbar = plt.colorbar(scatter)\n",
    "cbar.set_label('U values')\n",
    "\n",
    "# Labeling axes\n",
    "ax.set_xlabel('Chi')\n",
    "ax.set_ylabel('G')\n",
    "ax.set_zlabel('U')\n",
    "\n",
    "# Show plot\n",
    "plt.show()"
   ]
  },
  {
   "cell_type": "code",
   "execution_count": null,
   "metadata": {},
   "outputs": [],
   "source": [
    "# Optimizing over 3 dimensions\n",
    "Chi_values = np.linspace(0.0, 0.5, 5)\n",
    "G_values = np.linspace(0.3, 0.5, 5)\n",
    "u_values = []\n",
    "\n",
    "par.Chi_ss = i\n",
    "par.G_ss = j \n",
    "model.find_ss(do_print=True)\n",
    "ss.U_hh"
   ]
  },
  {
   "cell_type": "markdown",
   "metadata": {},
   "source": [
    "## 2. <a id='toc2_'></a>[Test 1: Solving and simulating the household problem](#toc0_)"
   ]
  },
  {
   "cell_type": "code",
   "execution_count": null,
   "metadata": {},
   "outputs": [],
   "source": []
  },
  {
   "cell_type": "code",
   "execution_count": null,
   "metadata": {},
   "outputs": [],
   "source": [
    "model.compute_jacs(do_print=True)\n",
    "model.test_jacs()"
   ]
  },
  {
   "cell_type": "code",
   "execution_count": null,
   "metadata": {},
   "outputs": [],
   "source": [
    "model.test_path()"
   ]
  },
  {
   "cell_type": "code",
   "execution_count": null,
   "metadata": {},
   "outputs": [],
   "source": [
    "model.find_transition_path(shocks=[],do_print=True)"
   ]
  },
  {
   "attachments": {},
   "cell_type": "markdown",
   "metadata": {},
   "source": [
    "## Question 2"
   ]
  },
  {
   "cell_type": "code",
   "execution_count": null,
   "metadata": {},
   "outputs": [],
   "source": [
    "ss.U_hh"
   ]
  },
  {
   "cell_type": "code",
   "execution_count": null,
   "metadata": {},
   "outputs": [],
   "source": [
    "#Works \n",
    "par.G_ss = 0.2\n",
    "model.find_ss(do_print=False)\n",
    "print(f'{ss.U_hh = :.2f}')\n",
    "values = (0.0, 0.1, 0.15, 0.2, 0.25, 0.3)\n",
    "\n",
    "#dosent work (says float cant be interpreted as an integer)\n",
    "for i in values:\n",
    "    print(type(i))\n",
    "    par.G_ss = i\n",
    "    model.find_ss(do_print=True)\n",
    "    print(f'{ss.U_hh = :.2f}')\n",
    "    print(f'{par.G_ss = :.2f}')\n",
    "    print(f'{ss.L_G = :.2f}')"
   ]
  },
  {
   "cell_type": "code",
   "execution_count": null,
   "metadata": {},
   "outputs": [],
   "source": [
    "values = (0.1, 0.15, 0.2, 0.25, 0.3)\n",
    "\n",
    "for i in values:\n",
    "    print(f'G = {i}')\n",
    "    par.G_ss = i\n",
    "    model.find_ss(do_print=False)\n",
    "    print(f'Utility = {ss.U_hh:.2f}')"
   ]
  },
  {
   "cell_type": "code",
   "execution_count": null,
   "metadata": {},
   "outputs": [],
   "source": [
    "# List of values\n",
    "values = [0.001, 0.005, 0.05, 0.1, 0.15, 0.2, 0.25, 0.3, 0.4, 0.5]\n",
    "\n",
    "# Initialize empty lists to store inputs and utilities\n",
    "inputs = []\n",
    "utilities = []\n",
    "\n",
    "# Iterate through the values\n",
    "for i in values:\n",
    "    print(f'G = {i}')\n",
    "    par.G_ss = i\n",
    "    model.find_ss(do_print=False)\n",
    "    utility = ss.U_hh\n",
    "    print(f'Utility = {utility:.2f}')\n",
    "    print(f'{ss.L_G = :.2f}')\n",
    "    print(f'{ss.L_Y = :.2f}')\n",
    "    \n",
    "    # Append the input value and utility to the respective lists\n",
    "    inputs.append(i)\n",
    "    utilities.append(utility)\n",
    "\n",
    "# Plot the inputs and utilities\n",
    "plt.figure(figsize=(8, 4))\n",
    "plt.plot(inputs, utilities, marker='o', linestyle='-')\n",
    "plt.xlabel('G')\n",
    "plt.ylabel('Utility')\n",
    "plt.title('Utility vs. G')\n",
    "plt.grid(True)\n",
    "plt.show()"
   ]
  },
  {
   "cell_type": "markdown",
   "metadata": {},
   "source": [
    "And we can check whether the results make sort of sense:"
   ]
  },
  {
   "cell_type": "code",
   "execution_count": null,
   "metadata": {},
   "outputs": [],
   "source": [
    "print(f'{model.ss.A_hh = :.2f}')\n",
    "print(f'{model.ss.L_hh = :.2f}')\n",
    "print(f'{model.ss.C_hh = :.2f}')"
   ]
  },
  {
   "cell_type": "code",
   "execution_count": null,
   "metadata": {},
   "outputs": [],
   "source": [
    "model.test_hh_path()"
   ]
  },
  {
   "cell_type": "markdown",
   "metadata": {},
   "source": [
    "## 3. <a id='toc3_'></a>[Test 2: Evaluating the objective for finding the steady state](#toc0_)"
   ]
  },
  {
   "cell_type": "markdown",
   "metadata": {},
   "source": [
    "We can try out various inputs and look at the outputs:"
   ]
  },
  {
   "cell_type": "code",
   "execution_count": null,
   "metadata": {},
   "outputs": [],
   "source": [
    "#Testting obj function \n",
    "# guessing on tau and K/L_y\n",
    "x = [1.0, 0.0]\n",
    "\n",
    "obj_ss(x, model)"
   ]
  },
  {
   "cell_type": "markdown",
   "metadata": {},
   "source": [
    "## 4. <a id='toc4_'></a>[Find stationary equilibrium](#toc0_)"
   ]
  },
  {
   "cell_type": "code",
   "execution_count": null,
   "metadata": {},
   "outputs": [],
   "source": [
    "model.find_ss(do_print=True)"
   ]
  },
  {
   "cell_type": "markdown",
   "metadata": {},
   "source": [
    "## 5. <a id='toc5_'></a>[Grid search](#toc0_)"
   ]
  },
  {
   "cell_type": "code",
   "execution_count": null,
   "metadata": {},
   "outputs": [],
   "source": [
    "par.tau_ss = 0.0\n",
    "KL_min = ((1/par.beta+par.delta-1)/(par.alpha*par.Gamma_Y))**(1/(par.alpha-1))\n",
    "KL_max = (par.delta/(par.alpha*par.Gamma_Y))**(1/(par.alpha-1))"
   ]
  },
  {
   "cell_type": "code",
   "execution_count": null,
   "metadata": {},
   "outputs": [],
   "source": [
    "NKL = 10\n",
    "KL_vec = np.hstack((np.linspace(KL_min+1e-2,KL_max-1e-2,NKL),np.linspace(KL_max+1e-2,10.0,NKL)))\n",
    "clearing_A_vec = np.nan*np.ones(KL_vec.size)\n",
    "r_vec = np.nan*np.ones(KL_vec.size)\n",
    "\n",
    "model_ = model.copy()\n",
    "for i,KL in enumerate(KL_vec):\n",
    "    print(f'{KL = :6.2f}: ',end='')\n",
    "    try:\n",
    "        clearing_A_vec[i] = obj_ss(np.array([KL]),model_,do_print=False)\n",
    "        r_vec[i] = model_.ss.r\n",
    "        print(f'clearing_A = {clearing_A_vec[i]:16.8f}')\n",
    "    except Exception as e:\n",
    "        print(e)"
   ]
  },
  {
   "cell_type": "code",
   "execution_count": null,
   "metadata": {},
   "outputs": [],
   "source": [
    "fig = plt.figure(figsize=(12,4),dpi=100)\n",
    "\n",
    "# a. income\n",
    "ax = fig.add_subplot(1,2,1)\n",
    "ax.set_title('$B+K-A^{hh}$')\n",
    "ax.plot(KL_vec[:NKL],clearing_A_vec[:NKL],'-o')\n",
    "ax.plot(KL_vec[NKL:],clearing_A_vec[NKL:],'-o')\n",
    "ax.axvline(ss.K/ss.L,color='black')\n",
    "ax.set_yscale('symlog')\n",
    "\n",
    "ax = fig.add_subplot(1,2,2)\n",
    "ax.set_title('$r$')\n",
    "ax.plot(KL_vec[:NKL],r_vec[:NKL],'-o')\n",
    "ax.plot(KL_vec[NKL:],r_vec[NKL:],'-o')\n",
    "ax.axvline(ss.K/ss.L,color='black');\n",
    "ax.axhline(ss.r,color='black');"
   ]
  },
  {
   "cell_type": "markdown",
   "metadata": {},
   "source": [
    "## 6. <a id='toc6_'></a>[Policy functions](#toc0_)"
   ]
  },
  {
   "cell_type": "code",
   "execution_count": null,
   "metadata": {},
   "outputs": [],
   "source": [
    "i_fix = 0\n",
    "\n",
    "fig = plt.figure(figsize=(18,4),dpi=100)\n",
    "a_max = 50\n",
    "\n",
    "# a. consumption\n",
    "I = par.a_grid < a_max\n",
    "\n",
    "ax = fig.add_subplot(1,3,1)\n",
    "ax.set_title(f'consumption')\n",
    "\n",
    "for i_z in [0,par.Nz//2,par.Nz-1]:\n",
    "    ax.plot(par.a_grid[I],ss.c[i_fix,i_z,I],label=f'i_z = {i_z}')\n",
    "\n",
    "ax.legend(frameon=True)\n",
    "ax.set_xlabel('savings, $a_{t-1}$')\n",
    "ax.set_ylabel('consumption, $c_t$')\n",
    "\n",
    "# b. saving\n",
    "I = par.a_grid < a_max\n",
    "\n",
    "ax = fig.add_subplot(1,3,2)\n",
    "ax.set_title(f'saving')\n",
    "\n",
    "for i_z in [0,par.Nz//2,par.Nz-1]:\n",
    "    ax.plot(par.a_grid[I],ss.a[i_fix,i_z,I],label=f'i_z = {i_z}')\n",
    "\n",
    "ax.set_xlabel('savings, $a_{t-1}$')\n",
    "ax.set_ylabel('savings, $a_{t}$')\n",
    "\n",
    "# c. labor supply\n",
    "I = par.a_grid < a_max\n",
    "\n",
    "ax = fig.add_subplot(1,3,3)\n",
    "ax.set_title(f'labor_supply')\n",
    "\n",
    "for i_z in [0,par.Nz//2,par.Nz-1]:\n",
    "    ax.plot(par.a_grid[I],ss.ell[i_fix,i_z,I],label=f'i_z = {i_z}')\n",
    "\n",
    "ax.set_xlabel('savings, $a_{t-1}$')\n",
    "ax.set_ylabel('labor supply, $n_{t}$')\n",
    "\n",
    "fig.tight_layout()\n",
    "plt.show()"
   ]
  },
  {
   "cell_type": "markdown",
   "metadata": {},
   "source": [
    "## 7. <a id='toc7_'></a>[Simulation](#toc0_)"
   ]
  },
  {
   "cell_type": "code",
   "execution_count": null,
   "metadata": {},
   "outputs": [],
   "source": [
    "fig = plt.figure(figsize=(12,4),dpi=100)\n",
    "\n",
    "# a. income\n",
    "ax = fig.add_subplot(1,2,1)\n",
    "ax.set_title('productivity')\n",
    "\n",
    "y = np.cumsum(np.sum(ss.D,axis=(0,2)))\n",
    "ax.plot(par.z_grid,y/y[-1])\n",
    "\n",
    "ax.set_xlabel('productivity, $z_{t}$')\n",
    "ax.set_ylabel('CDF')\n",
    "\n",
    "# b. assets\n",
    "ax = fig.add_subplot(1,2,2)\n",
    "ax.set_title('savings')\n",
    "y = np.insert(np.cumsum(np.sum(ss.D,axis=(0,1))),0,0.0)\n",
    "ax.plot(np.insert(par.a_grid,0,par.a_grid[0]),y/y[-1])\n",
    "        \n",
    "ax.set_xlabel('assets, $a_{t}$')\n",
    "ax.set_ylabel('CDF')\n",
    "ax.set_xscale('symlog')"
   ]
  }
 ],
 "metadata": {
  "kernelspec": {
   "display_name": "base",
   "language": "python",
   "name": "python3"
  },
  "language_info": {
   "codemirror_mode": {
    "name": "ipython",
    "version": 3
   },
   "file_extension": ".py",
   "mimetype": "text/x-python",
   "name": "python",
   "nbconvert_exporter": "python",
   "pygments_lexer": "ipython3",
   "version": "3.9.13"
  },
  "toc-autonumbering": true,
  "vscode": {
   "interpreter": {
    "hash": "47ef90cdf3004d3f859f1fb202523c65c07ba7c22eefd261b181f4744e2d0403"
   }
  }
 },
 "nbformat": 4,
 "nbformat_minor": 4
}
