{
 "cells": [
  {
   "cell_type": "markdown",
   "metadata": {},
   "source": [
    "# HANC with a Welfare State"
   ]
  },
  {
   "attachments": {},
   "cell_type": "markdown",
   "metadata": {},
   "source": [
    "In part I the model is set up and tested. In part II the questions are answered.\n",
    "\n",
    "**Table of contents**<a id='toc0_'></a>    \n",
    "- 1. [Setup](#toc1_)    \n",
    "- 2. [Test 1: Solving and simulating the household problem](#toc2_)    \n",
    "- 3. [Test 2: Evaluating the objective for finding the steady state](#toc3_)    \n",
    "- 4. [Find stationary equilibrium](#toc4_)    \n",
    "- 5. [Grid search](#toc5_)    \n",
    "- 6. [Policy functions](#toc6_)    \n",
    "- 7. [Simulation](#toc7_)    \n",
    "- 8. [Test transition path](#toc8_)    \n",
    "- 9. [Find transition path](#toc9_)    \n",
    "\n",
    "<!-- vscode-jupyter-toc-config\n",
    "\tnumbering=true\n",
    "\tanchor=true\n",
    "\tflat=false\n",
    "\tminLevel=2\n",
    "\tmaxLevel=6\n",
    "\t/vscode-jupyter-toc-config -->\n",
    "<!-- THIS CELL WILL BE REPLACED ON TOC UPDATE. DO NOT WRITE YOUR TEXT IN THIS CELL -->"
   ]
  },
  {
   "cell_type": "code",
   "execution_count": null,
   "metadata": {},
   "outputs": [],
   "source": [
    "%load_ext autoreload\n",
    "%autoreload 2\n",
    "\n",
    "import time\n",
    "import pickle\n",
    "import numpy as np\n",
    "from scipy import optimize\n",
    "from scipy.optimize import minimize_scalar\n",
    "import copy\n",
    "from copy import deepcopy\n",
    "\n",
    "import matplotlib.pyplot as plt   \n",
    "colors = plt.rcParams['axes.prop_cycle'].by_key()['color']\n",
    "plt.rcParams.update({\"axes.grid\" : True, \"grid.color\": \"black\", \"grid.alpha\":\"0.25\", \"grid.linestyle\": \"--\"})\n",
    "plt.rcParams.update({'font.size': 14})\n",
    "\n",
    "from HANCWelfareModel import HANCWelfareModelClass\n",
    "from steady_state import obj_ss\n",
    "\n",
    "from mpl_toolkits.mplot3d import Axes3D\n",
    "import pandas as pd\n"
   ]
  },
  {
   "cell_type": "markdown",
   "metadata": {},
   "source": [
    "## 1. <a id='toc1_'></a>[Setup](#toc0_)"
   ]
  },
  {
   "cell_type": "code",
   "execution_count": null,
   "metadata": {},
   "outputs": [],
   "source": [
    "# If new_output = True, all figures and tables will be exported\n",
    "new_output = False"
   ]
  },
  {
   "cell_type": "code",
   "execution_count": null,
   "metadata": {},
   "outputs": [],
   "source": [
    "model = HANCWelfareModelClass(name='baseline')\n",
    "\n",
    "par = model.par\n",
    "ss = model.ss\n",
    "sol = model.sol\n",
    "path = model.path"
   ]
  },
  {
   "cell_type": "markdown",
   "metadata": {},
   "source": [
    "## 2. <a id='toc2_'></a>[Test 1: Solving and simulating the household problem](#toc0_)"
   ]
  },
  {
   "cell_type": "markdown",
   "metadata": {},
   "source": [
    "We set all the steady values for the household problem manually at ad hoc values:"
   ]
  },
  {
   "cell_type": "code",
   "execution_count": null,
   "metadata": {},
   "outputs": [],
   "source": [
    "ss.r = 0.02*(1-0.1)\n",
    "ss.wt = 1.00*(1-0.3)\n",
    "ss.S = 0.0\n",
    "ss.Chi = 0.1\n",
    "ss.G = 0.4\n",
    "\n",
    "model.solve_hh_ss(do_print=True)\n",
    "model.simulate_hh_ss(do_print=True)\n"
   ]
  },
  {
   "cell_type": "code",
   "execution_count": null,
   "metadata": {},
   "outputs": [],
   "source": [
    "par.Chi_ = 0.0\n",
    "par.G_ = 0.0\n",
    "model.find_ss(do_print=True)\n"
   ]
  },
  {
   "cell_type": "code",
   "execution_count": null,
   "metadata": {},
   "outputs": [],
   "source": [
    "def print_ss(model):\n",
    "    print(f'Steady state values:')\n",
    "    for varname in model.varlist:\n",
    "        print(f'{varname:15s}: {ss.__dict__[varname]:.4f}')\n",
    "print_ss(model)"
   ]
  },
  {
   "cell_type": "code",
   "execution_count": null,
   "metadata": {},
   "outputs": [],
   "source": [
    "model.test_path(in_place=True) "
   ]
  },
  {
   "cell_type": "code",
   "execution_count": null,
   "metadata": {},
   "outputs": [],
   "source": [
    "model.compute_jacs(do_print=True)"
   ]
  },
  {
   "cell_type": "code",
   "execution_count": null,
   "metadata": {},
   "outputs": [],
   "source": [
    "model.find_transition_path(shocks=[],do_print=True)"
   ]
  },
  {
   "attachments": {},
   "cell_type": "markdown",
   "metadata": {},
   "source": [
    "# Question A Stationary Equalibrium without gov "
   ]
  },
  {
   "attachments": {},
   "cell_type": "markdown",
   "metadata": {},
   "source": [
    "### A 1 Steady state values"
   ]
  },
  {
   "cell_type": "code",
   "execution_count": null,
   "metadata": {},
   "outputs": [],
   "source": [
    "par.G_ = 0.0\n",
    "par.Chi_ = 0.0\n",
    "model.find_ss(do_print=False)\n",
    "print_ss()"
   ]
  },
  {
   "cell_type": "code",
   "execution_count": null,
   "metadata": {},
   "outputs": [],
   "source": [
    "def table_ss(new_output = new_output):\n",
    "    \n",
    "    if new_output == True:\n",
    "        print('exporting')\n",
    "        with open('tables/table_ss.tex', 'w') as file:\n",
    "            file.write(\"\\\\begin{tabular}{l r}\\n\")\n",
    "            file.write(\"\\\\hline\\n\")\n",
    "            file.write(\"Variable  & Value \\\\\\\\\\n\")\n",
    "            file.write(\"\\\\hline\\n\")\n",
    "            for varname in model.varlist:\n",
    "                file.write(f'{varname} & {ss.__dict__[varname]:.2f} \\\\\\\\\\n')\n",
    "            file.write(\"\\\\hline\\n\")\n",
    "            file.write(\"\\\\end{tabular}\\n\")\n",
    "    else:\n",
    "        print('not exported')\n",
    "\n",
    "table_ss()"
   ]
  },
  {
   "cell_type": "code",
   "execution_count": null,
   "metadata": {},
   "outputs": [],
   "source": [
    "# Assuming model.varlist and ss.__dict__ are defined\n",
    "\n",
    "def table_ss(model, new_output = new_output):\n",
    "    data = {varname: [f'{model.ss.__dict__[varname]:.3f}'] for varname in model.varlist}\n",
    "    df = pd.DataFrame(data).T  # Transpose to get variables as rows\n",
    "    df.columns = ['Value']\n",
    "    df.index.name = 'Variable'\n",
    "\n",
    "    return df\n",
    "\n",
    "# Example usage\n",
    "df = table_ss(model)\n",
    "\n",
    "\n",
    "if new_output:\n",
    "    print('exporting')\n",
    "\n",
    "        # Exporting to LaTeX\n",
    "    latex_table = df.to_latex()\n",
    "    with open('tables/table_ss.tex', 'w') as file:\n",
    "        file.write(latex_table)\n",
    "else:\n",
    "    print('not exported')\n",
    "    print(df)"
   ]
  },
  {
   "cell_type": "code",
   "execution_count": null,
   "metadata": {},
   "outputs": [],
   "source": [
    "new_output = False"
   ]
  },
  {
   "attachments": {},
   "cell_type": "markdown",
   "metadata": {},
   "source": [
    "### 1.2 Policy functions"
   ]
  },
  {
   "cell_type": "code",
   "execution_count": null,
   "metadata": {},
   "outputs": [],
   "source": [
    "def plot_policy(new_output= new_output):\n",
    "\n",
    "    i_fix = 0\n",
    "\n",
    "    fig = plt.figure(figsize=(18,4),dpi=100)\n",
    "    a_max = 100\n",
    "\n",
    "    # a. consumption\n",
    "    I = par.a_grid < a_max\n",
    "\n",
    "    ax = fig.add_subplot(1,3,1)\n",
    "    ax.set_title(f'consumption')\n",
    "\n",
    "    for i_z in [0,par.Nz//2,par.Nz-1]:\n",
    "        ax.plot(par.a_grid[I],ss.c[i_fix,i_z,I],label=f'i_z = {i_z}')\n",
    "\n",
    "    ax.legend(frameon=True)\n",
    "    ax.set_xlabel('savings, $a_{t-1}$')\n",
    "    ax.set_ylabel('consumption, $c_t$')\n",
    "\n",
    "    # b. saving\n",
    "    I = par.a_grid < a_max\n",
    "\n",
    "    ax = fig.add_subplot(1,3,2)\n",
    "    ax.set_title(f'saving')\n",
    "\n",
    "    for i_z in [0,par.Nz//2,par.Nz-1]:\n",
    "        ax.plot(par.a_grid[I],ss.a[i_fix,i_z,I],label=f'i_z = {i_z}')\n",
    "\n",
    "    ax.set_xlabel('savings, $a_{t-1}$')\n",
    "    ax.set_ylabel('savings, $a_{t}$')\n",
    "\n",
    "    # c. labor supply\n",
    "    I = par.a_grid < a_max\n",
    "\n",
    "    ax = fig.add_subplot(1,3,3)\n",
    "    ax.set_title(f'labor_supply')\n",
    "\n",
    "    for i_z in [0,par.Nz//2,par.Nz-1]:\n",
    "        ax.plot(par.a_grid[I],ss.ell[i_fix,i_z,I],label=f'i_z = {i_z}')\n",
    "\n",
    "    ax.set_xlabel('savings, $a_{t-1}$')\n",
    "    ax.set_ylabel('labor supply, $n_{t}$')\n",
    "    fig.tight_layout()\n",
    "\n",
    "    if new_output == True:\n",
    "        print('Exporting')\n",
    "        plt.savefig('figs/policy_functions.png',dpi=200)\n",
    "    \n",
    "    else:\n",
    "        print('Not exporting')\n",
    "        plt.show()\n",
    "\n",
    "plot_policy()\n"
   ]
  },
  {
   "attachments": {},
   "cell_type": "markdown",
   "metadata": {},
   "source": [
    "### 1.3 Distribution in ss "
   ]
  },
  {
   "cell_type": "code",
   "execution_count": null,
   "metadata": {},
   "outputs": [],
   "source": [
    "def plot_cdf(new_output = new_output):\n",
    "\n",
    "    fig = plt.figure(figsize=(12,4),dpi=100)\n",
    "    # a. income\n",
    "    ax = fig.add_subplot(1,2,1)\n",
    "    ax.set_title('productivity')\n",
    "\n",
    "    y = np.cumsum(np.sum(ss.D,axis=(0,2)))\n",
    "    ax.plot(par.z_grid,y/y[-1])\n",
    "\n",
    "    ax.set_xlabel('productivity, $z_{t}$')\n",
    "    ax.set_ylabel('CDF')\n",
    "\n",
    "    # b. assets\n",
    "    ax = fig.add_subplot(1,2,2)\n",
    "    ax.set_title('savings')\n",
    "    y = np.insert(np.cumsum(np.sum(ss.D,axis=(0,1))),0,0.0)\n",
    "    ax.plot(np.insert(par.a_grid,0,par.a_grid[0]),y/y[-1])\n",
    "            \n",
    "    ax.set_xlabel('assets, $a_{t}$')\n",
    "    ax.set_ylabel('CDF')\n",
    "    ax.set_xscale('symlog')\n",
    "\n",
    "    #save figure\n",
    "    if new_output == True:\n",
    "        print('Exporting')\n",
    "        fig.savefig('figs/distribution.png', bbox_inches='tight')\n",
    "    \n",
    "    else:\n",
    "        print('Not exporting')\n",
    "        plt.show()\n",
    "\n",
    "plot_cdf()\n"
   ]
  },
  {
   "attachments": {},
   "cell_type": "markdown",
   "metadata": {},
   "source": [
    "### 1.4 Expected discounted utility"
   ]
  },
  {
   "cell_type": "code",
   "execution_count": null,
   "metadata": {},
   "outputs": [],
   "source": [
    "\n",
    "def plot_utility(new_output = new_output):\n",
    "\n",
    "    model.test_path(in_place=True)\n",
    "\n",
    "    #Ploting the accumulation discounted utility\n",
    "    par.T = 500\n",
    "    time_ = [1, 10, 20, 30, 40, 50,  100, 150, 200, 250, 300, 350, 400, 450, 500]\n",
    "\n",
    "\n",
    "\n",
    "    time_past = []\n",
    "    disc_utility = []\n",
    "    for i in time_:\n",
    "        par.T = i \n",
    "        time_past.append(i)\n",
    "        U =np.sum([par.beta**t * np.sum(path.u[t]*path.D[t]/np.sum(path.D[t])) for t in range(par.T)])\n",
    "        disc_utility.append(U)\n",
    "\n",
    "    print(f'Utility: {disc_utility[-0]:.4f}')\n",
    "\n",
    "    #figure \n",
    "    fig = plt.figure(figsize=(12,6))\n",
    "    ax = fig.add_subplot(1,1,1)\n",
    "    ax.plot(time_past, disc_utility, label='Discounted Utility')\n",
    "    ax.set_xlabel('Time')\n",
    "    ax.set_ylabel('Utility')\n",
    "    ax.legend()\n",
    "\n",
    "    # save figure\n",
    "    if new_output == True:\n",
    "        print('Exported')\n",
    "        fig.savefig('figs/disc_utility.png', bbox_inches='tight')\n",
    "\n",
    "    else:\n",
    "        print('Not exported')\n",
    "        plt.show()\n",
    "\n",
    "plot_utility()"
   ]
  },
  {
   "attachments": {},
   "cell_type": "markdown",
   "metadata": {},
   "source": [
    "# B. Optimal welfare policies 1 (no transfers)"
   ]
  },
  {
   "attachments": {},
   "cell_type": "markdown",
   "metadata": {},
   "source": [
    "### 2.1 Defining new functions"
   ]
  },
  {
   "cell_type": "code",
   "execution_count": null,
   "metadata": {},
   "outputs": [],
   "source": [
    "# New objetctiv function \n",
    "def u_gov(x, model):\n",
    "\n",
    "    \"\"\"ss discounted sum of utility  given government level\"\"\"\n",
    "\n",
    "    par = model.par\n",
    "    ss = model.ss\n",
    "    path = model.path\n",
    "\n",
    "    par.G_ = x\n",
    "    model.find_ss(do_print=False)\n",
    "\n",
    "    model.test_path(in_place=False) \n",
    "    model.compute_jacs(do_print=False)\n",
    "    model.find_transition_path(shocks=[],do_print=False)\n",
    "\n",
    "    U =np.sum([par.beta**t * np.sum(path.u[t]*path.D[t]/np.sum(path.D[t])) for t in range(par.T)])\n",
    "    \n",
    "    return U\n",
    "\n",
    "def obj_gov(x, model):\n",
    "\n",
    "    \"\"\"Objective function with government as the choice variable\"\"\"\n",
    "\n",
    "    return - u_gov(x, model)\n",
    "\n",
    "#testing\n",
    "u_gov(0.1, model)"
   ]
  },
  {
   "attachments": {},
   "cell_type": "markdown",
   "metadata": {},
   "source": [
    "### 2.2 Function for calculations"
   ]
  },
  {
   "cell_type": "code",
   "execution_count": null,
   "metadata": {},
   "outputs": [],
   "source": [
    "# Optimize the objective function within the specified range\n",
    "#par.Chi_ = 0.0\n",
    "\n",
    "#result = minimize_scalar( obj_gov, bounds=(0.33, 0.5), method='bounded', args=(model))\n",
    "#obj_gov(result.x, model)\n",
    "\n",
    "# Print the optimization result\n",
    "#print(f\"Optimal value of x: { result.x}, given Chi = {ss.Chi}\")\n",
    "#print(f\"Optimal objective function value: {- result.fun}\")\n",
    "#print(f\"G/Y at the optimal level of G : {ss.G/ss.Y}\")"
   ]
  },
  {
   "attachments": {},
   "cell_type": "markdown",
   "metadata": {},
   "source": [
    "### Calculations"
   ]
  },
  {
   "cell_type": "code",
   "execution_count": null,
   "metadata": {},
   "outputs": [],
   "source": [
    "# A. Function \n",
    "def calc_chi(chi, model, lists = False):\n",
    "\n",
    "    # i. Input \n",
    "    par.Chi_ = chi\n",
    "\n",
    "    # ii. Minimizing\n",
    "    result = minimize_scalar(obj_gov, bounds=(0.36, 0.475), method='bounded', args=(model))\n",
    "\n",
    "    # iii. Rerunning\n",
    "    obj_gov(result.x, model)\n",
    "\n",
    "    Chi_val = ss.Chi\n",
    "    Gov_val = result.x\n",
    "    U_val = -result.fun\n",
    "    Y_G_relatio = ss.G/ss.Y\n",
    "    Gamma_Y = ss.Gamma_Y\n",
    "\n",
    "\n",
    "    # iv. Dictionary for resultsis (Optimum values )\n",
    "    result_dict = {\n",
    "        'Chi_val': Chi_val,\n",
    "        'Gov_opt': Gov_val,\n",
    "        'Gamma_Y': Gamma_Y,\n",
    "        'U_opt': U_val,\n",
    "        'Y_G_relatio': Y_G_relatio,\n",
    "    }  \n",
    "\n",
    "    # iv. List of U and Gov values for plotting \n",
    "    if lists == True:\n",
    "\n",
    "        g_values = [0.36, 0.39, 0.4, 0.42, 0.45, 0.475]\n",
    "        u_values = [u_gov(x, model) for x in g_values]\n",
    "        \n",
    "        result_dict['g_values'] = g_values\n",
    "        result_dict['u_values'] = u_values\n",
    "\n",
    "\n",
    "    return result_dict\n",
    "\n",
    "# B Caluclation \n",
    "\n",
    "#i. Empty dictionary \n",
    "chi_results = {}\n",
    "res_save = {}\n",
    "\n",
    "#Function to add the results to the dictionary\n",
    "#def tab_(chi):\n",
    "#   chi_results[str(chi)] = calc_chi(chi)\n",
    "\n",
    "\n",
    "# ii. Values to add\n",
    "#chi_values = [-0.35, -0.2, -0.3, -0.25, -0.2, -0.22, -0.15, -0.1, -0.05, 0.0, 0.05]  # List of chi values to compute\n",
    "\n",
    "table_val = ['Chi_val', 'Gov_opt','Gamma_Y', 'U_opt', 'Y_G_relatio']\n",
    "\n",
    "\n",
    "#tab_(chi_values[:])\n",
    "\n",
    "# iii. Calling the function \n",
    "#for chi in chi_values:\n",
    "#    chi_results[str(chi)] = calc_chi(chi, model, lists=True)\n"
   ]
  },
  {
   "attachments": {},
   "cell_type": "markdown",
   "metadata": {},
   "source": [
    "### Results"
   ]
  },
  {
   "cell_type": "code",
   "execution_count": null,
   "metadata": {},
   "outputs": [],
   "source": [
    "#chi_results[str(0.0)] = calc_chi(0.0, model, lists=True)\n",
    "res_save['Model b'] = calc_chi(0.0, model, lists=True)\n"
   ]
  },
  {
   "cell_type": "code",
   "execution_count": null,
   "metadata": {},
   "outputs": [],
   "source": [
    "print(f'Optimal values \\n')\n",
    "for i in table_val:\n",
    "    print(i)\n",
    "    print(chi_results['0.0'][i])"
   ]
  },
  {
   "attachments": {},
   "cell_type": "markdown",
   "metadata": {},
   "source": [
    "### Figure"
   ]
  },
  {
   "cell_type": "code",
   "execution_count": null,
   "metadata": {},
   "outputs": [],
   "source": [
    "# Assuming chi_results is defined and populated as before\n",
    "def plot_chi(new_output= new_output, chi0 = True):\n",
    "\n",
    "    fig = plt.figure(figsize=(7, 7), dpi=100)\n",
    "    ax = fig.add_subplot(1, 1, 1)\n",
    "    ax.set_title('')\n",
    "\n",
    "    opt_gov_values = []\n",
    "    opt_u_values = []\n",
    "\n",
    "\n",
    "    if chi0:\n",
    "        i = '0.0'\n",
    "        ax.plot(chi_results[i]['g_values'], chi_results[i]['u_values'])\n",
    "        ax.scatter(chi_results[i]['Gov_opt'], chi_results[i]['U_opt'], marker='o', label=f'chi = {i}, optimal utility = {chi_results[i][\"U_opt\"]:.2f}', color='black')\n",
    "        opt_gov_values.append(chi_results[i]['Gov_opt'])\n",
    "        opt_u_values.append(chi_results[i]['U_opt'])\n",
    "\n",
    "    else:\n",
    "        for i in chi_results.keys():\n",
    "            ax.plot(chi_results[i]['g_values'], chi_results[i]['u_values'])\n",
    "            ax.scatter(chi_results[i]['Gov_opt'], chi_results[i]['U_opt'], marker='o', label=f'chi = {i}, optimal utility = {chi_results[i][\"U_opt\"]:.2f}')\n",
    "            opt_gov_values.append(chi_results[i]['Gov_opt'])\n",
    "            opt_u_values.append(chi_results[i]['U_opt'])\n",
    "\n",
    "    # Plotting the line connecting optimal points\n",
    "    ax.plot(opt_gov_values, opt_u_values, color='grey', linestyle='--', marker='')\n",
    "\n",
    "    ax.set_xlabel('Government Production')\n",
    "    ax.set_ylabel('Utility')\n",
    "    ax.legend(loc='upper left', bbox_to_anchor=(1, 1))\n",
    "\n",
    "    if new_output == True:\n",
    "        if chi0:\n",
    "            fig.savefig('figs/chi0_gov.png', bbox_inches='tight')\n",
    "        else: \n",
    "            fig.savefig('figs/chi_gov_all.png', bbox_inches='tight')\n",
    "    else:\n",
    "        plt.show()\n",
    "\n",
    "plot_chi()\n",
    "\n"
   ]
  },
  {
   "attachments": {},
   "cell_type": "markdown",
   "metadata": {},
   "source": [
    "# 3. Find optimal welfare policies II (with transfers)"
   ]
  },
  {
   "attachments": {},
   "cell_type": "markdown",
   "metadata": {},
   "source": [
    "**C.1: New objective function**  "
   ]
  },
  {
   "cell_type": "code",
   "execution_count": null,
   "metadata": {},
   "outputs": [],
   "source": [
    "# New objetctiv function \n",
    "def u_gov_chi(x, model):\n",
    "    \"\"\"ss discounted sum of utility  given government level\"\"\"\n",
    "    par.G_ = x[0]\n",
    "    par.Chi_ = x[1]\n",
    "\n",
    "    model.find_ss(do_print=False)\n",
    "\n",
    "    #model.find_transition_path(shocks=[],do_print=False)\n",
    "    model.test_path(in_place=False) \n",
    "    model.compute_jacs(do_print=False)\n",
    "    model.find_transition_path(shocks=[],do_print=False)\n",
    "\n",
    "    U =np.sum([par.beta**t * np.sum(path.u[t]*path.D[t]/np.sum(path.D[t])) for t in range(par.T)])\n",
    "    \n",
    "    return  U\n",
    "\n",
    "def obj_gov_chi(x, model):\n",
    "    return - u_gov_chi(x, model)"
   ]
  },
  {
   "attachments": {},
   "cell_type": "markdown",
   "metadata": {},
   "source": [
    "**C.2: Optimal Governement production and transfers)**"
   ]
  },
  {
   "cell_type": "code",
   "execution_count": null,
   "metadata": {},
   "outputs": [],
   "source": [
    "#Initial quess\n",
    "x0 = [0.4, -0.2]\n",
    "\n",
    "# Reruning \n",
    "result = optimize.minimize(obj_gov_chi, x0, method='Nelder-Mead', args=(model))\n",
    "\n",
    "#Rerun \n",
    "u_gov_chi(result.x, model)\n"
   ]
  },
  {
   "cell_type": "code",
   "execution_count": null,
   "metadata": {},
   "outputs": [],
   "source": [
    "#Additional Calculations\n",
    "par.G_ = result.x[0]\n",
    "\n",
    "chi_results[str(result.x[1])] = calc_chi(result.x[1], model, lists=True)\n",
    "\n",
    "chi_results\n",
    "\n"
   ]
  },
  {
   "attachments": {},
   "cell_type": "markdown",
   "metadata": {},
   "source": [
    "**C.3: Additional caluclaitons for plotting (Slow)**"
   ]
  },
  {
   "cell_type": "code",
   "execution_count": null,
   "metadata": {},
   "outputs": [],
   "source": [
    "chi_values = [-0.35, -0.2, -0.3, -0.25, -0.2, -0.22, -0.15, -0.1, -0.05, 0.0, 0.05]  # List of chi values to compute\n",
    "\n",
    "table_val = ['Chi_val', 'Gov_opt','Gamma_Y', 'U_opt', 'Y_G_relatio']\n",
    "\n",
    "opt_u_values = []\n",
    "\n",
    "\n",
    "\n",
    "# Additional Chi values for plotting \n",
    "for chi in chi_values:\n",
    "    chi_results[str(chi)] = calc_chi(chi, model, lists=True)\n",
    "\n",
    "for i in chi_values:\n",
    "        opt_u_values.append(chi_results[str(i)]['U_opt'])\n"
   ]
  },
  {
   "attachments": {},
   "cell_type": "markdown",
   "metadata": {},
   "source": [
    "**C.4: Ploting max utility against transfer($\\chi$)** "
   ]
  },
  {
   "cell_type": "code",
   "execution_count": null,
   "metadata": {},
   "outputs": [],
   "source": [
    "def plot_chi_u(new_output=new_output):\n",
    "    fig = plt.figure(figsize=(7, 7), dpi=100)\n",
    "    ax = fig.add_subplot(1, 1, 1)\n",
    "\n",
    "    ax.scatter(chi_values, opt_u_values )\n",
    "    ax.set_ylabel('Utility')\n",
    "    ax.set_xlabel('Transfers ($\\chi$)')\n",
    "    ax.axvline(x=0, color='grey', linestyle='--')  # 'r' is for red color, '--' for dashed line\n",
    "    if new_output:\n",
    "        fig.savefig('figs/chi_utility.png')\n",
    "    else:\n",
    "        fig.show\n",
    "        print('Not exporting')\n",
    "plot_chi_u()"
   ]
  },
  {
   "attachments": {},
   "cell_type": "markdown",
   "metadata": {},
   "source": [
    "**C.5: Ploting gonvernment production and utility for $\\chi$ values**"
   ]
  },
  {
   "cell_type": "code",
   "execution_count": null,
   "metadata": {},
   "outputs": [],
   "source": [
    "plot_chi(chi0 = False)"
   ]
  },
  {
   "attachments": {},
   "cell_type": "markdown",
   "metadata": {},
   "source": [
    "# D Increased TFP "
   ]
  },
  {
   "attachments": {},
   "cell_type": "markdown",
   "metadata": {},
   "source": [
    "4.1 Soling the model for increaed TFP - more productive private sector. Solving using optimal chi and G from 3.1"
   ]
  },
  {
   "cell_type": "code",
   "execution_count": null,
   "metadata": {},
   "outputs": [],
   "source": [
    "#Copy the steady state values\n",
    "ini_ = model.ss.__dict__.copy()\n",
    "\n",
    "model2 = deepcopy(model)\n",
    "model2.par.G_ = 0.4653\n",
    "model2.par.Chi_ = -0.2477\n",
    "\n",
    "model2.par.Gamma_G_ = 1.0\n",
    "model2.par.Gamma_Y_ = 1.1\n",
    "model2.find_ss()"
   ]
  },
  {
   "cell_type": "code",
   "execution_count": null,
   "metadata": {},
   "outputs": [],
   "source": [
    "# New objetctiv function \n",
    "def u_gov_chi(x, model):\n",
    "    \"\"\"ss discounted sum of utility  given government level\"\"\"\n",
    "\n",
    "    par = model.par\n",
    "    ss = model.ss\n",
    "    path = model.path\n",
    "\n",
    "    par.G_ = x[0]\n",
    "    par.Chi_ = x[1]\n",
    "\n",
    "    model.find_ss(do_print=False)\n",
    "\n",
    "    #model.find_transition_path(shocks=[],do_print=False)\n",
    "    model.test_path(in_place=False) \n",
    "    model.compute_jacs(do_print=False)\n",
    "    model.find_transition_path(shocks=[],do_print=False)\n",
    "\n",
    "    U =np.sum([par.beta**t * np.sum(path.u[t]*path.D[t]/np.sum(path.D[t])) for t in range(par.T)])\n",
    "    \n",
    "    return  U\n",
    "\n",
    "def obj_gov_chi(x, model):\n",
    "    return - u_gov_chi(x, model)\n"
   ]
  },
  {
   "cell_type": "code",
   "execution_count": null,
   "metadata": {},
   "outputs": [],
   "source": [
    "#Initial quess\n",
    "x0 = [0.4653, -0.2477]\n",
    "\n",
    "# Reruning \n",
    "result_2 = optimize.minimize(obj_gov_chi, x0, method='Nelder-Mead', args=(model2))\n",
    "\n",
    "#Rerun \n",
    "u_gov_chi(result_2.x, model2)"
   ]
  },
  {
   "cell_type": "code",
   "execution_count": null,
   "metadata": {},
   "outputs": [],
   "source": [
    "res_ss = {}"
   ]
  },
  {
   "cell_type": "code",
   "execution_count": null,
   "metadata": {},
   "outputs": [],
   "source": [
    "res_ss['model2'] = table_ss(model2)"
   ]
  },
  {
   "cell_type": "code",
   "execution_count": null,
   "metadata": {},
   "outputs": [],
   "source": [
    "res_ss"
   ]
  },
  {
   "cell_type": "code",
   "execution_count": null,
   "metadata": {},
   "outputs": [],
   "source": [
    "model2.par.G_ = result_2.x[0]\n",
    "res_save['Model d'] = calc_chi(result_2.x[0], model, lists=True)"
   ]
  },
  {
   "cell_type": "code",
   "execution_count": null,
   "metadata": {},
   "outputs": [],
   "source": [
    "model.G = result.x[0]\n",
    "#ch_opt = str(np.round(result.x[1], 2))\n",
    "#ch_opt\n",
    "\n",
    "calc_chi(result.x[0], model, lists=True)"
   ]
  },
  {
   "cell_type": "code",
   "execution_count": null,
   "metadata": {},
   "outputs": [],
   "source": [
    "\n",
    "df = pd.DataFrame.from_dict(chi_results, orient='index')"
   ]
  },
  {
   "cell_type": "code",
   "execution_count": null,
   "metadata": {},
   "outputs": [],
   "source": [
    "selected_columns = ['Chi_val', 'Gov_opt', 'Gamma_Y', 'U_opt', 'Y_G_relatio']\n",
    "df_selected = df[selected_columns]\n",
    "\n",
    "# Round all numeric values to 3 decimal places\n",
    "df_selected = df_selected.round(3)\n",
    "\n",
    "# Export to LaTeX\n",
    "latex_table = df_selected.to_latex(index=False)\n",
    "\n",
    "print(latex_table)"
   ]
  },
  {
   "cell_type": "code",
   "execution_count": null,
   "metadata": {},
   "outputs": [],
   "source": [
    "\n",
    "\n"
   ]
  },
  {
   "cell_type": "code",
   "execution_count": null,
   "metadata": {},
   "outputs": [],
   "source": [
    "\n",
    "#chi_values\n",
    "\n",
    "opt_u_values = []\n",
    "\n",
    "for i in chi_values:\n",
    "        opt_u_values.append(chi_results[i][opt_u_values])\n",
    "print(opt_u_values)\n",
    "\n",
    "chi_values \n",
    "\n",
    "\n",
    "opt_gov_values.append(chi_results[i]['Gov_opt'])\n",
    "opt_u_values.append(chi_results[i]['U_opt'])\n",
    "\n",
    "\n",
    "\n",
    "fig = plt.figure(figsize=(7, 7), dpi=100)\n",
    "ax = fig.add_subplot(1, 1, 1)\n",
    "ax.set_title('')\n",
    "\n",
    "ax.plot()\n",
    "\n",
    "\n",
    "\n",
    "        i = '0.0'\n",
    "        ax.plot(chi_results[i]['g_values'], chi_results[i]['u_values'])\n",
    "        ax.scatter(chi_results[i]['Gov_opt'], chi_results[i]['U_opt'], marker='o', label=f'chi = {i}, optimal utility = {chi_results[i][\"U_opt\"]:.2f}', color='black')\n",
    "        opt_gov_values.append(chi_results[i]['Gov_opt'])\n",
    "        opt_u_values.append(chi_results[i]['U_opt'])"
   ]
  },
  {
   "cell_type": "code",
   "execution_count": null,
   "metadata": {},
   "outputs": [],
   "source": [
    "# IKKE HER \n",
    "table_val = ['Chi_val', 'Gov_opt','Gamma_Y', 'U_opt', 'Y_G_relatio']\n",
    "\n",
    "\n",
    "\n",
    "with open('tables/results.tex', 'w') as file:\n",
    "    file.write(\"\\\\begin{tabular}{c c c c}\\n\")\n",
    "    file.write(\"\\\\hline\\n\")\n",
    "    file.write(\"Chi & Government & U & Y/G \\\\\\\\\\n\")\n",
    "    file.write(\"\\\\hline\\n\")\n",
    "    for i in chi_results.keys():\n",
    "        file.write(f\"{chi_results[f'{i}']['Chi_val']} & {chi_results[f'{i}']['Gov_opt']:.3f} & {chi_results[f'{i}']['U_opt']:.3f} & {chi_results[f'{i}']['Y_G_relatio']:.3f} \\\\\\\\\\n\")\n",
    "    file.write(\"\\\\hline\\n\")\n",
    "    file.write(\"\\\\end{tabular}\\n\")\n",
    "    "
   ]
  },
  {
   "attachments": {},
   "cell_type": "markdown",
   "metadata": {},
   "source": [
    "Values of U given G and Chi\n"
   ]
  },
  {
   "attachments": {},
   "cell_type": "markdown",
   "metadata": {},
   "source": [
    "### 3.1 Table with chi and --- "
   ]
  },
  {
   "cell_type": "code",
   "execution_count": null,
   "metadata": {},
   "outputs": [],
   "source": [
    "# Doing Q 2 for more chi values \n",
    "# ii. Values to add\n",
    "#chi_values = [-0.35, -0.2, -0.3, -0.25, -0.2, -0.22, -0.15, -0.1, -0.05, 0.0, 0.05]  # List of chi values to compute\n",
    "\n",
    "\n",
    "#tab_(chi_values[:])\n",
    "\n",
    "# iii. Calling the function \n",
    "#for chi in chi_values:\n",
    "#    chi_results[str(chi)] = calc_chi(chi, model, lists=True)"
   ]
  },
  {
   "cell_type": "code",
   "execution_count": null,
   "metadata": {},
   "outputs": [],
   "source": [
    "table_val = ['Chi_val', 'Gov_opt','Gamma_Y', 'U_opt', 'Y_G_relatio']\n",
    "\n",
    "with open('tables/results.tex', 'w') as file:\n",
    "    file.write(\"\\\\begin{tabular}{c c c c}\\n\")\n",
    "    file.write(\"\\\\hline\\n\")\n",
    "    file.write(\"Chi & Government & U & Y/G \\\\\\\\\\n\")\n",
    "    file.write(\"\\\\hline\\n\")\n",
    "    for i in chi_results.keys():\n",
    "        file.write(f\"{chi_results[f'{i}']['Chi_val']} & {chi_results[f'{i}']['Gov_opt']:.3f} & {chi_results[f'{i}']['U_opt']:.3f} & {chi_results[f'{i}']['Y_G_relatio']:.3f} \\\\\\\\\\n\")\n",
    "    file.write(\"\\\\hline\\n\")\n",
    "    file.write(\"\\\\end{tabular}\\n\")\n",
    "    "
   ]
  },
  {
   "cell_type": "code",
   "execution_count": null,
   "metadata": {},
   "outputs": [],
   "source": [
    "# Assuming chi_results is defined and populated as before\n",
    "def old(new_output= new_output):\n",
    "\n",
    "    fig = plt.figure(figsize=(7, 7), dpi=100)\n",
    "    ax = fig.add_subplot(1, 1, 1)\n",
    "    ax.set_title('')\n",
    "\n",
    "    opt_gov_values = []\n",
    "    opt_u_values = []\n",
    "\n",
    "    for i in chi_results.keys():\n",
    "        ax.plot(chi_results[i]['g_values'], chi_results[i]['u_values'])\n",
    "        ax.scatter(chi_results[i]['Gov_opt'], chi_results[i]['U_opt'], marker='o', label=f'chi = {i}, optimal utility = {chi_results[i][\"U_opt\"]:.2f}')\n",
    "        opt_gov_values.append(chi_results[i]['Gov_opt'])\n",
    "        opt_u_values.append(chi_results[i]['U_opt'])\n",
    "\n",
    "    # Plotting the line connecting optimal points\n",
    "    ax.plot(opt_gov_values, opt_u_values, color='grey', linestyle='--', marker='')\n",
    "\n",
    "    ax.set_xlabel('Government Production')\n",
    "    ax.set_ylabel('Utility')\n",
    "    ax.legend(loc='upper left', bbox_to_anchor=(1, 1))\n",
    "\n",
    "    if new_output == True:\n",
    "        fig.savefig('figs/chi_gov.png', bbox_inches='tight')\n",
    "    else:\n",
    "        plt.show()\n",
    "\n",
    "#plot_chi()\n",
    "\n",
    "#*** Add a gradual color schemme"
   ]
  },
  {
   "attachments": {},
   "cell_type": "markdown",
   "metadata": {},
   "source": [
    "### Optimising"
   ]
  },
  {
   "cell_type": "code",
   "execution_count": null,
   "metadata": {},
   "outputs": [],
   "source": [
    "print(f'Optimal values \\nx: { result.x[0]} \\nChi = {result.x[1]}  \\nUtility = {-result.fun} \\nG = {ss.G} \\nG to Y ratio = ' )\n"
   ]
  },
  {
   "attachments": {},
   "cell_type": "markdown",
   "metadata": {},
   "source": [
    "### Printing "
   ]
  },
  {
   "attachments": {},
   "cell_type": "markdown",
   "metadata": {},
   "source": [
    " \n",
    " Løsning: \n",
    " \n",
    " message: Solution found.\n",
    " success: True\n",
    "  status: 0\n",
    "     fun: 136.88928464017815\n",
    "       x: -0.21819642050038354\n",
    "     nit: 8\n",
    "    nfev: 8"
   ]
  },
  {
   "cell_type": "code",
   "execution_count": null,
   "metadata": {},
   "outputs": [],
   "source": [
    "# Optimize the objective function within the specified range\n",
    "par.Chi_ = results.x\n",
    "\n",
    "result_2 = minimize_scalar( obj_gov, bounds=(0.43, 0.46), method='bounded')\n",
    "\n",
    "# Print the optimization result\n",
    "print(f\"Optimal value of x: { result_2.x}, given Chi = {ss.Chi}\")\n",
    "print(f\"Optimal objective function value: {- result_2.fun}\")\n",
    "print(f\"G/Y at the optimal level of G : {ss.G/ss.Y}\")\n",
    "print(f'G = {ss.G}')"
   ]
  },
  {
   "attachments": {},
   "cell_type": "markdown",
   "metadata": {},
   "source": [
    "### 3.2 Plotting the utility for given values of chi and G "
   ]
  },
  {
   "attachments": {},
   "cell_type": "markdown",
   "metadata": {},
   "source": [
    "### 3.3 plot of \\chi and G (3D)"
   ]
  },
  {
   "attachments": {},
   "cell_type": "markdown",
   "metadata": {},
   "source": [
    "New optimal chi and G:"
   ]
  },
  {
   "cell_type": "code",
   "execution_count": null,
   "metadata": {},
   "outputs": [],
   "source": [
    "x0 = [0.4, -0.2]\n",
    "result_model2 = optimize.minimize(u_gov_chi, x0, method='Nelder-Mead', args=(model_))\n",
    "u_gov_chi(result_model2.x)"
   ]
  },
  {
   "cell_type": "code",
   "execution_count": null,
   "metadata": {},
   "outputs": [],
   "source": [
    "calc_chi"
   ]
  },
  {
   "attachments": {},
   "cell_type": "markdown",
   "metadata": {},
   "source": [
    "4.2 Printing the new values of the steady state:"
   ]
  },
  {
   "cell_type": "code",
   "execution_count": null,
   "metadata": {},
   "outputs": [],
   "source": [
    "# printing \n",
    "def print_ss(model):\n",
    "    print(f'Steady state values:')\n",
    "    for varname in model.varlist:\n",
    "        print(f'{varname:15s}: {model.ss.__dict__[varname]:.4f}')\n",
    "print_ss(model_)"
   ]
  },
  {
   "attachments": {},
   "cell_type": "markdown",
   "metadata": {},
   "source": [
    "### Adding to the results table \n"
   ]
  },
  {
   "cell_type": "code",
   "execution_count": null,
   "metadata": {},
   "outputs": [],
   "source": [
    "x0 = [0.4, -0.2]\n",
    "result = optimize.minimize(u_gov_chi, x0, method='Nelder-Mead', args=(model))"
   ]
  },
  {
   "cell_type": "code",
   "execution_count": null,
   "metadata": {},
   "outputs": [],
   "source": [
    "\n",
    "model_.compute_jacs(do_print=False)\n",
    "model_.find_transition_path(shocks=[],do_print=False, ini=ini_)\n",
    "model_.show_IRFs( varnames= ['Y', 'G', 'U_hh'])\n"
   ]
  },
  {
   "cell_type": "code",
   "execution_count": null,
   "metadata": {},
   "outputs": [],
   "source": [
    "#plt.plot(model_.path.__dict__['S'][:100]/model_.path.__dict__['Y'][:100])\n",
    "#plt.plot(model_.path.__dict__['Y'][:100])\n",
    "\n",
    "plt.plot(path.__dict__['U_hh'][:10])\n",
    "\n",
    "\n",
    "\n",
    "#U =np.sum([par.beta**t * np.sum(path.u[t]*path.D[t]/np.sum(path.D[t])) for t in range(par.T)])\n"
   ]
  },
  {
   "attachments": {},
   "cell_type": "markdown",
   "metadata": {},
   "source": [
    "# Start"
   ]
  },
  {
   "cell_type": "code",
   "execution_count": null,
   "metadata": {},
   "outputs": [],
   "source": [
    "# New objetctiv function \n",
    "def u_gov_chi(x, model):\n",
    "    \"\"\"ss discounted sum of utility  given government level\"\"\"\n",
    "\n",
    "    par = model.par\n",
    "    ss = model.ss\n",
    "    path = model.path\n",
    "\n",
    "    par.G_ = x[0]\n",
    "    par.Chi_ = x[1]\n",
    "\n",
    "    model.find_ss(do_print=False)\n",
    "\n",
    "\n",
    "    model.test_path(in_place=False) \n",
    "    model.compute_jacs(do_print=False)\n",
    "    model.find_transition_path(shocks=[],do_print=False)\n",
    "\n",
    "    U =np.sum([par.beta**t * np.sum(path.u[t]*path.D[t]/np.sum(path.D[t])) for t in range(par.T)])\n",
    "    \n",
    "    return  U\n",
    "\n",
    "def obj_gov_chi(x, model):\n",
    "    return - u_gov_chi(x, model)\n"
   ]
  },
  {
   "attachments": {},
   "cell_type": "markdown",
   "metadata": {},
   "source": [
    "# Stop "
   ]
  },
  {
   "cell_type": "code",
   "execution_count": null,
   "metadata": {},
   "outputs": [],
   "source": [
    "# New objetctiv function \n",
    "def u_gov_chi_model2(x, model_in):\n",
    "    \"\"\"ss discounted sum of utility  given government level\"\"\"\n",
    "    par = model_in.par\n",
    "    ss = model_in.ss\n",
    "    path = model_in.path\n",
    "\n",
    "    model_in.par.G_ = x[0]\n",
    "    model_in.par.Chi_ = x[1]\n",
    "\n",
    "    model_in.find_ss(do_print=False)\n",
    "\n",
    "    #model.find_transition_path(shocks=[],do_print=False)\n",
    "    model_in.test_path(in_place=False) \n",
    "    model_in.compute_jacs(do_print=False)\n",
    "    model_in.find_transition_path(shocks=[],do_print=False)\n",
    "\n",
    "    U =np.sum([par.beta**t * np.sum(path.u[t]*path.D[t]/np.sum(path.D[t])) for t in range(par.T)])\n",
    "    \n",
    "    return - U"
   ]
  },
  {
   "cell_type": "code",
   "execution_count": null,
   "metadata": {},
   "outputs": [],
   "source": [
    "x0 =[0.4, -0.2]\n",
    "\n",
    "result3 = optimize.minimize(u_gov_chi_model2, x0, method='Nelder-Mead', args=model2)\n",
    "u_gov_chi_model2(result3.x, model2)\n",
    "\n",
    "\n",
    "# Print the optimization result\n",
    "print(f\"Optimal value of x: { result3.x[0]}, given Chi = {ss.Chi}, {result3.x[1]}\")\n",
    "print(f\"Optimal objective function value: {- result3.fun}\")\n",
    "print(f\"G/Y at the optimal level of G : {ss.G/ss.Y}\")\n",
    "print(f'G = {ss.G}')"
   ]
  },
  {
   "cell_type": "code",
   "execution_count": null,
   "metadata": {},
   "outputs": [],
   "source": [
    "table_ss(model2)"
   ]
  },
  {
   "cell_type": "code",
   "execution_count": null,
   "metadata": {},
   "outputs": [],
   "source": [
    "# New objetctiv function \n",
    "def u_gov_chi_model2(x):\n",
    "    \"\"\"ss discounted sum of utility  given government level\"\"\"\n",
    "    par = model2.par\n",
    "    ss = model2.ss\n",
    "    path = model2.path\n",
    "\n",
    "    model2.par.G_ = x[0]\n",
    "    model2.par.Chi_ = x[1]\n",
    "\n",
    "    model2.find_ss(do_print=False)\n",
    "\n",
    "    #model.find_transition_path(shocks=[],do_print=False)\n",
    "    model2.test_path(in_place=False) \n",
    "    model2.compute_jacs(do_print=False)\n",
    "    model2.find_transition_path(shocks=[],do_print=False)\n",
    "\n",
    "    U =np.sum([par.beta**t * np.sum(path.u[t]*path.D[t]/np.sum(path.D[t])) for t in range(par.T)])\n",
    "    \n",
    "    return - U"
   ]
  },
  {
   "cell_type": "code",
   "execution_count": 140,
   "metadata": {},
   "outputs": [
    {
     "name": "stdout",
     "output_type": "stream",
     "text": [
      "shocks: G L_G Gamma_Y Gamma_G \n",
      "unknowns: K L_Y \n",
      "\n",
      "blocks.production_firm\n",
      " rK               0.0e+00\n",
      " w                0.0e+00\n",
      " Y                0.0e+00\n",
      "blocks.mutual_fund\n",
      " A                0.0e+00\n",
      " r                0.0e+00\n",
      "blocks.government\n",
      " tau              0.0e+00\n",
      " wt               0.0e+00\n",
      " Chi              0.0e+00\n",
      " S                0.0e+00\n",
      "hh\n",
      " A_hh             8.8e-10\n",
      " C_hh             2.3e-11\n",
      " ELL_hh           9.8e-11\n",
      " L_hh             7.9e-11\n",
      " INC_hh           4.8e-12\n",
      " U_hh             2.1e-10\n",
      "blocks.market_clearing\n",
      " L                7.9e-11\n",
      " I                1.1e-16\n",
      " clearing_A       5.1e-09 [target]\n",
      " clearing_L       7.9e-11\n",
      " clearing_Y       2.3e-11\n",
      " clearing_G       8.7e-10 [target]\n",
      "shocks: G L_G Gamma_Y Gamma_G \n",
      "unknowns: K L_Y \n",
      "\n",
      "blocks.production_firm\n",
      " rK               0.0e+00\n",
      " w                0.0e+00\n",
      " Y                0.0e+00\n",
      "blocks.mutual_fund\n",
      " A                0.0e+00\n",
      " r                0.0e+00\n",
      "blocks.government\n",
      " tau              0.0e+00\n",
      " wt               0.0e+00\n",
      " Chi              0.0e+00\n",
      " S                0.0e+00\n",
      "hh\n",
      " A_hh             9.3e-10\n",
      " C_hh             2.4e-11\n",
      " ELL_hh           1.1e-10\n",
      " L_hh             8.9e-11\n",
      " INC_hh           3.9e-12\n",
      " U_hh             2.4e-10\n",
      "blocks.market_clearing\n",
      " L                8.9e-11\n",
      " I                1.7e-16\n",
      " clearing_A       9.4e-10 [target]\n",
      " clearing_L       8.9e-11\n",
      " clearing_Y       2.4e-11\n",
      " clearing_G       6.3e-11 [target]\n",
      "shocks: G L_G Gamma_Y Gamma_G \n",
      "unknowns: K L_Y \n",
      "\n",
      "blocks.production_firm\n",
      " rK               0.0e+00\n",
      " w                0.0e+00\n",
      " Y                0.0e+00\n",
      "blocks.mutual_fund\n",
      " A                0.0e+00\n",
      " r                0.0e+00\n",
      "blocks.government\n",
      " tau              0.0e+00\n",
      " wt               0.0e+00\n",
      " Chi              0.0e+00\n",
      " S                0.0e+00\n",
      "hh\n",
      " A_hh             8.6e-10\n",
      " C_hh             2.3e-11\n",
      " ELL_hh           9.2e-11\n",
      " L_hh             7.5e-11\n",
      " INC_hh           5.3e-12\n",
      " U_hh             2.0e-10\n",
      "blocks.market_clearing\n",
      " L                7.5e-11\n",
      " I                0.0e+00\n",
      " clearing_A       5.1e-10 [target]\n",
      " clearing_L       7.5e-11\n",
      " clearing_Y       2.3e-11\n",
      " clearing_G       1.5e-10 [target]\n",
      "shocks: G L_G Gamma_Y Gamma_G \n",
      "unknowns: K L_Y \n",
      "\n",
      "blocks.production_firm\n",
      " rK               0.0e+00\n",
      " w                0.0e+00\n",
      " Y                0.0e+00\n",
      "blocks.mutual_fund\n",
      " A                0.0e+00\n",
      " r                0.0e+00\n",
      "blocks.government\n",
      " tau              0.0e+00\n",
      " wt               0.0e+00\n",
      " Chi              0.0e+00\n",
      " S                0.0e+00\n",
      "hh\n",
      " A_hh             9.1e-10\n",
      " C_hh             2.4e-11\n",
      " ELL_hh           1.0e-10\n",
      " L_hh             8.4e-11\n",
      " INC_hh           4.5e-12\n",
      " U_hh             2.3e-10\n",
      "blocks.market_clearing\n",
      " L                8.4e-11\n",
      " I                1.1e-16\n",
      " clearing_A       9.5e-10 [target]\n",
      " clearing_L       8.4e-11\n",
      " clearing_Y       2.4e-11\n",
      " clearing_G       6.3e-11 [target]\n",
      "shocks: G L_G Gamma_Y Gamma_G \n",
      "unknowns: K L_Y \n",
      "\n",
      "blocks.production_firm\n",
      " rK               0.0e+00\n",
      " w                0.0e+00\n",
      " Y                0.0e+00\n",
      "blocks.mutual_fund\n",
      " A                0.0e+00\n",
      " r                0.0e+00\n",
      "blocks.government\n",
      " tau              0.0e+00\n",
      " wt               0.0e+00\n",
      " Chi              0.0e+00\n",
      " S                0.0e+00\n",
      "hh\n",
      " A_hh             9.0e-10\n",
      " C_hh             2.4e-11\n",
      " ELL_hh           1.0e-10\n",
      " L_hh             8.3e-11\n",
      " INC_hh           4.5e-12\n",
      " U_hh             2.3e-10\n",
      "blocks.market_clearing\n",
      " L                8.3e-11\n",
      " I                5.6e-17\n",
      " clearing_A       9.0e-10 [target]\n",
      " clearing_L       8.3e-11\n",
      " clearing_Y       2.4e-11\n",
      " clearing_G       5.5e-11 [target]\n",
      "shocks: G L_G Gamma_Y Gamma_G \n",
      "unknowns: K L_Y \n",
      "\n",
      "blocks.production_firm\n",
      " rK               0.0e+00\n",
      " w                0.0e+00\n",
      " Y                0.0e+00\n",
      "blocks.mutual_fund\n",
      " A                0.0e+00\n",
      " r                0.0e+00\n",
      "blocks.government\n",
      " tau              0.0e+00\n",
      " wt               0.0e+00\n",
      " Chi              0.0e+00\n",
      " S                0.0e+00\n",
      "hh\n",
      " A_hh             9.0e-10\n",
      " C_hh             2.4e-11\n",
      " ELL_hh           1.0e-10\n",
      " L_hh             8.3e-11\n",
      " INC_hh           4.5e-12\n",
      " U_hh             2.2e-10\n",
      "blocks.market_clearing\n",
      " L                8.3e-11\n",
      " I                0.0e+00\n",
      " clearing_A       9.0e-10 [target]\n",
      " clearing_L       8.3e-11\n",
      " clearing_Y       2.4e-11\n",
      " clearing_G       5.5e-11 [target]\n",
      "shocks: G L_G Gamma_Y Gamma_G \n",
      "unknowns: K L_Y \n",
      "\n",
      "blocks.production_firm\n",
      " rK               0.0e+00\n",
      " w                0.0e+00\n",
      " Y                0.0e+00\n",
      "blocks.mutual_fund\n",
      " A                0.0e+00\n",
      " r                0.0e+00\n",
      "blocks.government\n",
      " tau              0.0e+00\n",
      " wt               0.0e+00\n",
      " Chi              0.0e+00\n",
      " S                0.0e+00\n",
      "hh\n",
      " A_hh             9.0e-10\n",
      " C_hh             2.4e-11\n",
      " ELL_hh           1.0e-10\n",
      " L_hh             8.3e-11\n",
      " INC_hh           4.5e-12\n",
      " U_hh             2.2e-10\n",
      "blocks.market_clearing\n",
      " L                8.3e-11\n",
      " I                5.6e-17\n",
      " clearing_A       9.0e-10 [target]\n",
      " clearing_L       8.3e-11\n",
      " clearing_Y       2.4e-11\n",
      " clearing_G       5.5e-11 [target]\n",
      "shocks: G L_G Gamma_Y Gamma_G \n",
      "unknowns: K L_Y \n",
      "\n",
      "blocks.production_firm\n",
      " rK               0.0e+00\n",
      " w                0.0e+00\n",
      " Y                0.0e+00\n",
      "blocks.mutual_fund\n",
      " A                0.0e+00\n",
      " r                0.0e+00\n",
      "blocks.government\n",
      " tau              0.0e+00\n",
      " wt               0.0e+00\n",
      " Chi              0.0e+00\n",
      " S                0.0e+00\n",
      "hh\n",
      " A_hh             9.0e-10\n",
      " C_hh             2.4e-11\n",
      " ELL_hh           1.0e-10\n",
      " L_hh             8.3e-11\n",
      " INC_hh           4.5e-12\n",
      " U_hh             2.2e-10\n",
      "blocks.market_clearing\n",
      " L                8.3e-11\n",
      " I                1.7e-16\n",
      " clearing_A       9.0e-10 [target]\n",
      " clearing_L       8.3e-11\n",
      " clearing_Y       2.4e-11\n",
      " clearing_G       5.5e-11 [target]\n",
      "shocks: G L_G Gamma_Y Gamma_G \n",
      "unknowns: K L_Y \n",
      "\n",
      "blocks.production_firm\n",
      " rK               0.0e+00\n",
      " w                0.0e+00\n",
      " Y                0.0e+00\n",
      "blocks.mutual_fund\n",
      " A                0.0e+00\n",
      " r                0.0e+00\n",
      "blocks.government\n",
      " tau              0.0e+00\n",
      " wt               0.0e+00\n",
      " Chi              0.0e+00\n",
      " S                0.0e+00\n",
      "hh\n",
      " A_hh             9.0e-10\n",
      " C_hh             2.4e-11\n",
      " ELL_hh           1.0e-10\n",
      " L_hh             8.3e-11\n",
      " INC_hh           4.5e-12\n",
      " U_hh             2.2e-10\n",
      "blocks.market_clearing\n",
      " L                8.3e-11\n",
      " I                5.6e-17\n",
      " clearing_A       9.0e-10 [target]\n",
      " clearing_L       8.3e-11\n",
      " clearing_Y       2.4e-11\n",
      " clearing_G       5.5e-11 [target]\n",
      "shocks: G L_G Gamma_Y Gamma_G \n",
      "unknowns: K L_Y \n",
      "\n",
      "blocks.production_firm\n",
      " rK               0.0e+00\n",
      " w                0.0e+00\n",
      " Y                0.0e+00\n",
      "blocks.mutual_fund\n",
      " A                0.0e+00\n",
      " r                0.0e+00\n",
      "blocks.government\n",
      " tau              0.0e+00\n",
      " wt               0.0e+00\n",
      " Chi              0.0e+00\n",
      " S                0.0e+00\n",
      "hh\n",
      " A_hh             8.1e-10\n",
      " C_hh             2.2e-11\n",
      " ELL_hh           8.1e-11\n",
      " L_hh             6.6e-11\n",
      " INC_hh           5.9e-12\n",
      " U_hh             1.7e-10\n",
      "blocks.market_clearing\n",
      " L                6.6e-11\n",
      " I                5.6e-17\n",
      " clearing_A       7.0e-10 [target]\n",
      " clearing_L       6.6e-11\n",
      " clearing_Y       2.2e-11\n",
      " clearing_G       9.9e-11 [target]\n",
      "shocks: G L_G Gamma_Y Gamma_G \n",
      "unknowns: K L_Y \n",
      "\n",
      "blocks.production_firm\n",
      " rK               0.0e+00\n",
      " w                0.0e+00\n",
      " Y                0.0e+00\n",
      "blocks.mutual_fund\n",
      " A                0.0e+00\n",
      " r                0.0e+00\n",
      "blocks.government\n",
      " tau              0.0e+00\n",
      " wt               0.0e+00\n",
      " Chi              0.0e+00\n",
      " S                0.0e+00\n",
      "hh\n",
      " A_hh             8.6e-10\n",
      " C_hh             2.3e-11\n",
      " ELL_hh           9.2e-11\n",
      " L_hh             7.5e-11\n",
      " INC_hh           5.1e-12\n",
      " U_hh             2.0e-10\n",
      "blocks.market_clearing\n",
      " L                7.5e-11\n",
      " I                1.7e-16\n",
      " clearing_A       7.9e-10 [target]\n",
      " clearing_L       7.5e-11\n",
      " clearing_Y       2.3e-11\n",
      " clearing_G       3.5e-11 [target]\n",
      "shocks: G L_G Gamma_Y Gamma_G \n",
      "unknowns: K L_Y \n",
      "\n",
      "blocks.production_firm\n",
      " rK               0.0e+00\n",
      " w                0.0e+00\n",
      " Y                0.0e+00\n",
      "blocks.mutual_fund\n",
      " A                0.0e+00\n",
      " r                0.0e+00\n",
      "blocks.government\n",
      " tau              0.0e+00\n",
      " wt               0.0e+00\n",
      " Chi              0.0e+00\n",
      " S                0.0e+00\n",
      "hh\n",
      " A_hh             8.8e-10\n",
      " C_hh             2.3e-11\n",
      " ELL_hh           9.7e-11\n",
      " L_hh             7.9e-11\n",
      " INC_hh           4.9e-12\n",
      " U_hh             2.1e-10\n",
      "blocks.market_clearing\n",
      " L                7.9e-11\n",
      " I                1.1e-16\n",
      " clearing_A       3.2e-09 [target]\n",
      " clearing_L       7.9e-11\n",
      " clearing_Y       2.3e-11\n",
      " clearing_G       4.4e-10 [target]\n",
      "shocks: G L_G Gamma_Y Gamma_G \n",
      "unknowns: K L_Y \n",
      "\n",
      "blocks.production_firm\n",
      " rK               0.0e+00\n",
      " w                0.0e+00\n",
      " Y                0.0e+00\n",
      "blocks.mutual_fund\n",
      " A                0.0e+00\n",
      " r                0.0e+00\n",
      "blocks.government\n",
      " tau              0.0e+00\n",
      " wt               0.0e+00\n",
      " Chi              0.0e+00\n",
      " S                0.0e+00\n",
      "hh\n",
      " A_hh             9.1e-10\n",
      " C_hh             2.4e-11\n",
      " ELL_hh           1.1e-10\n",
      " L_hh             8.5e-11\n",
      " INC_hh           4.3e-12\n",
      " U_hh             2.3e-10\n",
      "blocks.market_clearing\n",
      " L                8.5e-11\n",
      " I                1.7e-16\n",
      " clearing_A       9.1e-10 [target]\n",
      " clearing_L       8.5e-11\n",
      " clearing_Y       2.4e-11\n",
      " clearing_G       5.7e-11 [target]\n",
      "shocks: G L_G Gamma_Y Gamma_G \n",
      "unknowns: K L_Y \n",
      "\n",
      "blocks.production_firm\n",
      " rK               0.0e+00\n",
      " w                0.0e+00\n",
      " Y                0.0e+00\n",
      "blocks.mutual_fund\n",
      " A                0.0e+00\n",
      " r                0.0e+00\n",
      "blocks.government\n",
      " tau              0.0e+00\n",
      " wt               0.0e+00\n",
      " Chi              0.0e+00\n",
      " S                0.0e+00\n",
      "hh\n",
      " A_hh             9.4e-10\n",
      " C_hh             2.4e-11\n",
      " ELL_hh           1.2e-10\n",
      " L_hh             9.5e-11\n",
      " INC_hh           3.2e-12\n",
      " U_hh             2.7e-10\n",
      "blocks.market_clearing\n",
      " L                9.5e-11\n",
      " I                1.7e-16\n",
      " clearing_A       9.4e-10 [target]\n",
      " clearing_L       9.5e-11\n",
      " clearing_Y       2.4e-11\n",
      " clearing_G       6.7e-11 [target]\n",
      "shocks: G L_G Gamma_Y Gamma_G \n",
      "unknowns: K L_Y \n",
      "\n",
      "blocks.production_firm\n",
      " rK               0.0e+00\n",
      " w                0.0e+00\n",
      " Y                0.0e+00\n",
      "blocks.mutual_fund\n",
      " A                0.0e+00\n",
      " r                0.0e+00\n",
      "blocks.government\n",
      " tau              0.0e+00\n",
      " wt               0.0e+00\n",
      " Chi              0.0e+00\n",
      " S                0.0e+00\n",
      "hh\n",
      " A_hh             9.9e-10\n",
      " C_hh             2.6e-11\n",
      " ELL_hh           1.3e-10\n",
      " L_hh             1.1e-10\n",
      " INC_hh           2.3e-12\n",
      " U_hh             3.1e-10\n",
      "blocks.market_clearing\n",
      " L                1.1e-10\n",
      " I                2.2e-16\n",
      " clearing_A       9.9e-10 [target]\n",
      " clearing_L       1.1e-10\n",
      " clearing_Y       2.6e-11\n",
      " clearing_G       7.7e-11 [target]\n"
     ]
    },
    {
     "ename": "NameError",
     "evalue": "name 'res_save' is not defined",
     "output_type": "error",
     "traceback": [
      "\u001b[0;31m---------------------------------------------------------------------------\u001b[0m",
      "\u001b[0;31mNameError\u001b[0m                                 Traceback (most recent call last)",
      "\u001b[0;32m/var/folders/1t/shy39gf516g7nrfy2pmdkn780000gn/T/ipykernel_2723/3418792053.py\u001b[0m in \u001b[0;36m<module>\u001b[0;34m\u001b[0m\n\u001b[1;32m      1\u001b[0m \u001b[0;31m#chi_results[str(0.0)] = calc_chi(0.0, model, lists=True)\u001b[0m\u001b[0;34m\u001b[0m\u001b[0;34m\u001b[0m\u001b[0m\n\u001b[1;32m      2\u001b[0m \u001b[0;34m\u001b[0m\u001b[0m\n\u001b[0;32m----> 3\u001b[0;31m \u001b[0mres_save\u001b[0m\u001b[0;34m[\u001b[0m\u001b[0;34m'Model d'\u001b[0m\u001b[0;34m]\u001b[0m \u001b[0;34m=\u001b[0m \u001b[0mcalc_chi\u001b[0m\u001b[0;34m(\u001b[0m\u001b[0;36m0.0\u001b[0m\u001b[0;34m,\u001b[0m \u001b[0mmodel\u001b[0m\u001b[0;34m,\u001b[0m \u001b[0mlists\u001b[0m\u001b[0;34m=\u001b[0m\u001b[0;32mTrue\u001b[0m\u001b[0;34m)\u001b[0m\u001b[0;34m\u001b[0m\u001b[0;34m\u001b[0m\u001b[0m\n\u001b[0m",
      "\u001b[0;31mNameError\u001b[0m: name 'res_save' is not defined"
     ]
    }
   ],
   "source": [
    "\n",
    "#chi_results[str(0.0)] = calc_chi(0.0, model, lists=True)\n",
    "\n",
    "res_save['Model d'] = calc_chi(0.0, model, lists=True)"
   ]
  },
  {
   "cell_type": "code",
   "execution_count": null,
   "metadata": {},
   "outputs": [],
   "source": [
    "table_ss(model2)"
   ]
  },
  {
   "cell_type": "code",
   "execution_count": 127,
   "metadata": {},
   "outputs": [],
   "source": [
    "# a. define shock\n",
    "dG = np.zeros(par.T)\n",
    "dG[:4] = 0.01*ss.G\n",
    "dL_G = np.np.zeros(par.T)\n",
    "dL_G[:4] = 0.res_save['Model c']\n",
    "\n",
    "shocks = {'dG':dG} # note the 'd' for difference (in absolute terms)\n",
    "\n",
    "\n",
    "shocks = []\n",
    "\n",
    "model2.find_transition_path(shocks=[], ini=ini_)"
   ]
  },
  {
   "cell_type": "code",
   "execution_count": 136,
   "metadata": {},
   "outputs": [
    {
     "data": {
      "text/plain": [
       "[<matplotlib.lines.Line2D at 0x7fdca58f1e50>]"
      ]
     },
     "execution_count": 136,
     "metadata": {},
     "output_type": "execute_result"
    },
    {
     "data": {
      "image/png": "[encoded data removed]",
      "text/plain": [
       "<Figure size 1000x1000 with 1 Axes>"
      ]
     },
     "metadata": {},
     "output_type": "display_data"
    }
   ],
   "source": [
    "fig = plt.figure(figsize=(10, 10), dpi=100)\n",
    "\n",
    "\n",
    "ax1 = fig.add_subplot(1, 1, 1)\n",
    "\n",
    "ax1.plot(model2.path.G[:100])\n",
    "#ax1.plot(model2.path.U_hh[:100])\n",
    "#ax1.plot(model2.path.G[:100]/model2.path.Y[:100])\n",
    "\n"
   ]
  },
  {
   "cell_type": "code",
   "execution_count": null,
   "metadata": {},
   "outputs": [],
   "source": [
    "\n",
    "\n",
    "model_.compute_jacs(do_print=False)\n",
    "model_.find_transition_path(shocks=[],do_print=False, ini=ini_)\n",
    "model_.show_IRFs( varnames= ['Y', 'G', 'U_hh'])"
   ]
  },
  {
   "attachments": {},
   "cell_type": "markdown",
   "metadata": {},
   "source": [
    "# STOP "
   ]
  },
  {
   "cell_type": "code",
   "execution_count": null,
   "metadata": {},
   "outputs": [],
   "source": [
    "# Error  RuntimeWarning: invalid value encountered in double_scalars\n",
    "# Create the figure and subplots\n",
    "fig = plt.figure(figsize=(10, 10), dpi=100)\n",
    "\n",
    "#\n",
    "ax = fig.add_subplot(1, 1, 1)\n",
    "ax.set_title('Productivity')\n",
    "\n",
    "\n",
    "g_values = np.linspace(0.3, 0.5, 20)\n",
    "u_values = [u_gov(x) for x in g_values]\n",
    "\n",
    "\n",
    "# Plot the objective function\n",
    "ax.plot(g_values, u_values, label='Objective Function')\n",
    "ax.set_xlabel('Government production')\n",
    "ax.set_ylabel('Discounted expected utility')\n",
    "ax.set_title('Plot of Objective Function')\n",
    "ax.grid(True)\n",
    "ax.legend()\n",
    "\n",
    "# Plot the minimum point\n",
    "ax.scatter(result.x, u_gov(result.x), color='red', label='Optimal government consumption', marker='o')\n",
    "ax.legend()\n",
    "\n",
    "# Save figure\n",
    "fig.savefig('figs/fig_optimal_G.png', bbox_inches='tight')\n",
    "\n",
    "# Show the figure\n",
    "plt.show()\n"
   ]
  },
  {
   "attachments": {},
   "cell_type": "markdown",
   "metadata": {},
   "source": [
    "## Question 3"
   ]
  },
  {
   "cell_type": "code",
   "execution_count": null,
   "metadata": {},
   "outputs": [],
   "source": [
    "# Optimize the objective function within the specified range\n",
    "par.Chi_ss = 0.05\n",
    "\n",
    "result = minimize_scalar( obj_gov, bounds=(0.375, 0.45), method='bounded')\n",
    "\n",
    "# Print the optimization result\n",
    "print(f\"Optimal value of x: {- result.x}, given Chi = {ss.Chi}\")\n",
    "print(f\"Optimal objective function value: {- result.fun}\")\n",
    "\n",
    "# G/Y in the steady state\n",
    "# PROBLEM - G in the steady state: 1.22 skal være 0.41493\n",
    "print(f\"G/Y in the steady state: {ss.G/ss.Y}\")\n",
    "print(f\"L_G in the steady state: {ss.L_G}\")\n",
    "print(f\"G in the steady state: {ss.Y}\")\n",
    "print(f\"Y in the steady state: {ss.Gamma_G}\")\n",
    "print(f'S in the steady state: {ss.S}')\n",
    "print(f'Chi in the steady state: {ss.Chi}')\n",
    "print(f'U_hh in the steady state: {ss.U_hh}')\n",
    "print(f'G_ss in the steady state: {par.G_ss}')"
   ]
  },
  {
   "cell_type": "code",
   "execution_count": null,
   "metadata": {},
   "outputs": [],
   "source": [
    "# Error  RuntimeWarning: invalid value encountered in double_scalars\n",
    "# Create the figure and subplots\n",
    "fig = plt.figure(figsize=(10, 10), dpi=100)\n",
    "\n",
    "#\n",
    "ax = fig.add_subplot(1, 1, 1)\n",
    "ax.set_title('Productivity')\n",
    "\n",
    "g_values = np.linspace(0.3, 0.5, 10)\n",
    "u_values = [u_gov(x) for x in g_values]\n",
    "\n",
    "\n",
    "# Plot the objective function\n",
    "ax.plot(g_values, u_values, label='Objective Function')\n",
    "ax.set_xlabel('Government production')\n",
    "ax.set_ylabel('Discounted expected utility')\n",
    "ax.set_title('Plot of Objective Function')\n",
    "ax.grid(True)\n",
    "ax.legend()\n",
    "\n",
    "# Plot the minimum point\n",
    "ax.scatter(result.x, u_gov(result.x), color='red', label='Optimal government consumption', marker='o')\n",
    "ax.legend()\n",
    "\n",
    "# Save figure\n",
    "#fig.savefig(f'figs/fig_optimal_G_{ss.Chi}.png', bbox_inches='tight')\n",
    "\n",
    "# Show the figure\n",
    "plt.show()\n"
   ]
  },
  {
   "cell_type": "code",
   "execution_count": null,
   "metadata": {},
   "outputs": [],
   "source": [
    "# Define Chi and G values more densely for a smooth surface\n",
    "#Chi_values = np.linspace(0.0, 0.1, 2)  # Increased number of points for smoothness\n",
    "#G_values = np.linspace(0.4, 0.4, 2)\n",
    "\n",
    "\n",
    "# Create a meshgrid\n",
    "#Chi_grid, G_grid = np.meshgrid(Chi_values, G_values)\n",
    "\n",
    "print(f'Chi_grid: {Chi_grid}')\n",
    "print(f'Chi_grid: {G_grid}')\n",
    "print(f'U_grid: {U_grid}')"
   ]
  },
  {
   "cell_type": "code",
   "execution_count": null,
   "metadata": {},
   "outputs": [],
   "source": [
    "# Define Chi and G values more densely for a smooth surface\n",
    "Chi_values = np.linspace(0.0, 0.1, 2)  # Increased number of points for smoothness\n",
    "G_values = np.linspace(0.4, 0.4, 2)\n",
    "\n",
    "\n",
    "# Create a meshgrid\n",
    "Chi_grid, G_grid = np.meshgrid(Chi_values, G_values)\n",
    "\n",
    "# Initialize an empty grid for U values\n",
    "U_grid = np.zeros_like(Chi_grid)\n",
    "\n",
    "# Compute U values for each combination of Chi and G\n",
    "for i in range(Chi_grid.shape[0]):\n",
    "    for j in range(G_grid.shape[1]):\n",
    "\n",
    "        par.Chi_ss = Chi_grid[i, j]\n",
    "        par.G_ss = G_grid[i, j]\n",
    "        model.find_ss(do_print=False)\n",
    "        U_grid[i, j] = ss.U_hh"
   ]
  },
  {
   "cell_type": "code",
   "execution_count": null,
   "metadata": {},
   "outputs": [],
   "source": [
    "# Plotting\n",
    "fig = plt.figure()\n",
    "ax = fig.add_subplot(111, projection='3d')\n",
    "\n",
    "# Surface plot with color based on U values\n",
    "surface = ax.plot_surface(Chi_grid, G_grid, U_grid, cmap='viridis')\n",
    "\n",
    "# Adding a color bar\n",
    "cbar = plt.colorbar(surface)\n",
    "cbar.set_label('U values')\n",
    "\n",
    "# Labeling axes\n",
    "ax.set_xlabel('Chi')\n",
    "ax.set_ylabel('G')\n",
    "ax.set_zlabel('U')\n",
    "\n",
    "# Show plot\n",
    "plt.show()"
   ]
  },
  {
   "attachments": {},
   "cell_type": "markdown",
   "metadata": {},
   "source": [
    "# 3. Optimal welfare policies 2 (with transfers)"
   ]
  },
  {
   "cell_type": "code",
   "execution_count": null,
   "metadata": {},
   "outputs": [],
   "source": [
    "\n",
    "# Define Chi and G values more densely for a smooth surface\n",
    "#Chi_values = np.linspace(0.0, 0.1, 5)  # Increased number of points for smoothness\n",
    "#G_values = np.linspace(0.3, 0.5, 5)\n",
    "\n",
    "# Create a meshgrid\n",
    "#Chi_grid, G_grid = np.meshgrid(Chi_values, G_values)\n",
    "\n",
    "# Initialize an empty grid for U values\n",
    "#U_grid = np.zeros_like(Chi_grid)\n",
    "\n",
    "# Compute U values for each combination of Chi and G\n",
    "#for i in range(Chi_grid.shape[0]):\n",
    "#    for j in range(G_grid.shape[1]):\n",
    "#        par.Chi_ = Chi_grid[i, j]\n",
    "#        par.G_ = G_grid[i, j]\n",
    "#        model.find_ss(do_print=False)\n",
    "#        U_grid[i, j] = ss.U_hh\n",
    "\n",
    "# Plotting\n",
    "fig = plt.figure()\n",
    "ax = fig.add_subplot(111, projection='3d')\n",
    "\n",
    "# Surface plot with color based on U values\n",
    "surface = ax.plot_surface(Chi_grid, G_grid, U_grid, cmap='viridis')\n",
    "\n",
    "# Adding a color bar\n",
    "cbar = plt.colorbar(surface)\n",
    "cbar.set_label('U values')\n",
    "\n",
    "# Labeling axes\n",
    "ax.set_xlabel('Chi')\n",
    "ax.set_ylabel('G')\n",
    "ax.set_zlabel('U')\n",
    "\n",
    "# Show plot\n",
    "plt.show()\n"
   ]
  },
  {
   "cell_type": "code",
   "execution_count": null,
   "metadata": {},
   "outputs": [],
   "source": [
    "from mpl_toolkits.mplot3d import Axes3D\n",
    "\n",
    "# ... [your code to compute Chi_list, G_list, U_list] ...\n",
    "\n",
    "# Plotting\n",
    "fig = plt.figure()\n",
    "ax = fig.add_subplot(111, projection='3d')\n",
    "\n",
    "# Scatter plot with color based on U values\n",
    "scatter = ax.scatter(Chi_list, G_list, U_list, c=U_list, cmap='viridis')\n",
    "\n",
    "# Adding a color bar\n",
    "cbar = plt.colorbar(scatter)\n",
    "cbar.set_label('U values')\n",
    "\n",
    "# Labeling axes\n",
    "ax.set_xlabel('Chi')\n",
    "ax.set_ylabel('G')\n",
    "ax.set_zlabel('U')\n",
    "\n",
    "# Show plot\n",
    "plt.show()"
   ]
  }
 ],
 "metadata": {
  "kernelspec": {
   "display_name": "base",
   "language": "python",
   "name": "python3"
  },
  "language_info": {
   "codemirror_mode": {
    "name": "ipython",
    "version": 3
   },
   "file_extension": ".py",
   "mimetype": "text/x-python",
   "name": "python",
   "nbconvert_exporter": "python",
   "pygments_lexer": "ipython3",
   "version": "3.9.13"
  },
  "toc-autonumbering": true,
  "vscode": {
   "interpreter": {
    "hash": "47ef90cdf3004d3f859f1fb202523c65c07ba7c22eefd261b181f4744e2d0403"
   }
  }
 },
 "nbformat": 4,
 "nbformat_minor": 4
}
